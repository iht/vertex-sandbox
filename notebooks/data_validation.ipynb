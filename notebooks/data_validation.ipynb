{
 "cells": [
  {
   "cell_type": "code",
   "execution_count": 3,
   "id": "01d4c6be-f92e-4227-9435-3295f27e846b",
   "metadata": {
    "collapsed": true,
    "jupyter": {
     "outputs_hidden": true
    },
    "tags": []
   },
   "outputs": [
    {
     "name": "stdout",
     "output_type": "stream",
     "text": [
      "Collecting tensorflow-data-validation\n",
      "  Using cached tensorflow_data_validation-1.6.0-cp37-cp37m-manylinux_2_12_x86_64.manylinux2010_x86_64.whl (1.4 MB)\n",
      "Requirement already satisfied: tensorflow!=2.0.*,!=2.1.*,!=2.2.*,!=2.3.*,!=2.4.*,!=2.5.*,!=2.6.*,<3,>=1.15.5 in /opt/conda/lib/python3.7/site-packages (from tensorflow-data-validation) (2.8.0)\n",
      "Requirement already satisfied: tfx-bsl<1.7,>=1.6.0 in /opt/conda/lib/python3.7/site-packages (from tensorflow-data-validation) (1.6.0)\n",
      "Requirement already satisfied: absl-py<2.0.0,>=0.9 in /opt/conda/lib/python3.7/site-packages (from tensorflow-data-validation) (1.0.0)\n",
      "Requirement already satisfied: protobuf<4,>=3.13 in /opt/conda/lib/python3.7/site-packages (from tensorflow-data-validation) (3.19.4)\n",
      "Requirement already satisfied: six<2,>=1.12 in /opt/conda/lib/python3.7/site-packages (from tensorflow-data-validation) (1.16.0)\n",
      "Requirement already satisfied: pandas<2,>=1.0 in /opt/conda/lib/python3.7/site-packages (from tensorflow-data-validation) (1.3.5)\n",
      "Requirement already satisfied: apache-beam[gcp]<3,>=2.35 in /opt/conda/lib/python3.7/site-packages (from tensorflow-data-validation) (2.35.0)\n",
      "Requirement already satisfied: tensorflow-metadata<1.7,>=1.6.0 in /opt/conda/lib/python3.7/site-packages (from tensorflow-data-validation) (1.6.0)\n",
      "Requirement already satisfied: numpy<2,>=1.16 in /opt/conda/lib/python3.7/site-packages (from tensorflow-data-validation) (1.21.5)\n",
      "Collecting pyarrow<6,>=1\n",
      "  Using cached pyarrow-5.0.0-cp37-cp37m-manylinux2014_x86_64.whl (23.6 MB)\n",
      "Collecting joblib<0.15,>=0.12\n",
      "  Using cached joblib-0.14.1-py2.py3-none-any.whl (294 kB)\n",
      "Requirement already satisfied: pytz>=2018.3 in /opt/conda/lib/python3.7/site-packages (from apache-beam[gcp]<3,>=2.35->tensorflow-data-validation) (2021.3)\n",
      "Requirement already satisfied: proto-plus<2,>=1.7.1 in /opt/conda/lib/python3.7/site-packages (from apache-beam[gcp]<3,>=2.35->tensorflow-data-validation) (1.19.9)\n",
      "Requirement already satisfied: crcmod<2.0,>=1.7 in /opt/conda/lib/python3.7/site-packages (from apache-beam[gcp]<3,>=2.35->tensorflow-data-validation) (1.7)\n",
      "Requirement already satisfied: python-dateutil<3,>=2.8.0 in /opt/conda/lib/python3.7/site-packages (from apache-beam[gcp]<3,>=2.35->tensorflow-data-validation) (2.8.2)\n",
      "Requirement already satisfied: fastavro<2,>=0.21.4 in /opt/conda/lib/python3.7/site-packages (from apache-beam[gcp]<3,>=2.35->tensorflow-data-validation) (1.4.9)\n",
      "Requirement already satisfied: oauth2client<5,>=2.0.1 in /opt/conda/lib/python3.7/site-packages (from apache-beam[gcp]<3,>=2.35->tensorflow-data-validation) (4.1.3)\n",
      "Collecting numpy<2,>=1.16\n",
      "  Using cached numpy-1.20.3-cp37-cp37m-manylinux_2_12_x86_64.manylinux2010_x86_64.whl (15.3 MB)\n",
      "Requirement already satisfied: pydot<2,>=1.2.0 in /opt/conda/lib/python3.7/site-packages (from apache-beam[gcp]<3,>=2.35->tensorflow-data-validation) (1.4.2)\n",
      "Collecting dill<0.3.2,>=0.3.1.1\n",
      "  Using cached dill-0.3.1.1-py3-none-any.whl\n",
      "Requirement already satisfied: requests<3.0.0,>=2.24.0 in /opt/conda/lib/python3.7/site-packages (from apache-beam[gcp]<3,>=2.35->tensorflow-data-validation) (2.27.1)\n",
      "Requirement already satisfied: hdfs<3.0.0,>=2.1.0 in /opt/conda/lib/python3.7/site-packages (from apache-beam[gcp]<3,>=2.35->tensorflow-data-validation) (2.6.0)\n",
      "Requirement already satisfied: grpcio<2,>=1.29.0 in /opt/conda/lib/python3.7/site-packages (from apache-beam[gcp]<3,>=2.35->tensorflow-data-validation) (1.43.0)\n",
      "Collecting httplib2<0.20.0,>=0.8\n",
      "  Using cached httplib2-0.19.1-py3-none-any.whl (95 kB)\n",
      "Collecting typing-extensions<4,>=3.7.0\n",
      "  Using cached typing_extensions-3.10.0.2-py3-none-any.whl (26 kB)\n",
      "Requirement already satisfied: orjson<4.0 in /opt/conda/lib/python3.7/site-packages (from apache-beam[gcp]<3,>=2.35->tensorflow-data-validation) (3.6.6)\n",
      "Requirement already satisfied: pymongo<4.0.0,>=3.8.0 in /opt/conda/lib/python3.7/site-packages (from apache-beam[gcp]<3,>=2.35->tensorflow-data-validation) (3.12.3)\n",
      "Requirement already satisfied: grpcio-gcp<1,>=0.2.2 in /opt/conda/lib/python3.7/site-packages (from apache-beam[gcp]<3,>=2.35->tensorflow-data-validation) (0.2.2)\n",
      "Requirement already satisfied: cachetools<5,>=3.1.0 in /opt/conda/lib/python3.7/site-packages (from apache-beam[gcp]<3,>=2.35->tensorflow-data-validation) (4.2.4)\n",
      "Requirement already satisfied: google-cloud-dlp<4,>=3.0.0 in /opt/conda/lib/python3.7/site-packages (from apache-beam[gcp]<3,>=2.35->tensorflow-data-validation) (3.6.0)\n",
      "Requirement already satisfied: google-cloud-bigquery-storage>=2.6.3 in /opt/conda/lib/python3.7/site-packages (from apache-beam[gcp]<3,>=2.35->tensorflow-data-validation) (2.11.0)\n",
      "Collecting google-cloud-spanner<2,>=1.13.0\n",
      "  Using cached google_cloud_spanner-1.19.1-py2.py3-none-any.whl (255 kB)\n",
      "Collecting google-cloud-vision<2,>=0.38.0\n",
      "  Using cached google_cloud_vision-1.0.0-py2.py3-none-any.whl (435 kB)\n",
      "Collecting google-cloud-bigtable<2,>=0.31.1\n",
      "  Using cached google_cloud_bigtable-1.7.0-py2.py3-none-any.whl (267 kB)\n",
      "Requirement already satisfied: google-cloud-recommendations-ai<=0.2.0,>=0.1.0 in /opt/conda/lib/python3.7/site-packages (from apache-beam[gcp]<3,>=2.35->tensorflow-data-validation) (0.2.0)\n",
      "Collecting google-cloud-core<2,>=0.28.1\n",
      "  Using cached google_cloud_core-1.7.2-py2.py3-none-any.whl (28 kB)\n",
      "Collecting google-cloud-language<2,>=1.3.0\n",
      "  Using cached google_cloud_language-1.3.0-py2.py3-none-any.whl (83 kB)\n",
      "Collecting google-cloud-videointelligence<2,>=1.8.0\n",
      "  Using cached google_cloud_videointelligence-1.16.1-py2.py3-none-any.whl (183 kB)\n",
      "Requirement already satisfied: google-cloud-pubsub<2,>=0.39.0 in /opt/conda/lib/python3.7/site-packages (from apache-beam[gcp]<3,>=2.35->tensorflow-data-validation) (1.7.0)\n",
      "Collecting google-cloud-datastore<2,>=1.8.0\n",
      "  Using cached google_cloud_datastore-1.15.3-py2.py3-none-any.whl (134 kB)\n",
      "Requirement already satisfied: google-auth<3,>=1.18.0 in /opt/conda/lib/python3.7/site-packages (from apache-beam[gcp]<3,>=2.35->tensorflow-data-validation) (2.6.0)\n",
      "Requirement already satisfied: google-apitools<0.5.32,>=0.5.31 in /opt/conda/lib/python3.7/site-packages (from apache-beam[gcp]<3,>=2.35->tensorflow-data-validation) (0.5.31)\n",
      "Requirement already satisfied: google-cloud-bigquery<3,>=1.6.0 in /opt/conda/lib/python3.7/site-packages (from apache-beam[gcp]<3,>=2.35->tensorflow-data-validation) (2.32.0)\n",
      "Requirement already satisfied: astunparse>=1.6.0 in /opt/conda/lib/python3.7/site-packages (from tensorflow!=2.0.*,!=2.1.*,!=2.2.*,!=2.3.*,!=2.4.*,!=2.5.*,!=2.6.*,<3,>=1.15.5->tensorflow-data-validation) (1.6.3)\n",
      "Requirement already satisfied: libclang>=9.0.1 in /opt/conda/lib/python3.7/site-packages (from tensorflow!=2.0.*,!=2.1.*,!=2.2.*,!=2.3.*,!=2.4.*,!=2.5.*,!=2.6.*,<3,>=1.15.5->tensorflow-data-validation) (13.0.0)\n",
      "Requirement already satisfied: opt-einsum>=2.3.2 in /opt/conda/lib/python3.7/site-packages (from tensorflow!=2.0.*,!=2.1.*,!=2.2.*,!=2.3.*,!=2.4.*,!=2.5.*,!=2.6.*,<3,>=1.15.5->tensorflow-data-validation) (3.3.0)\n",
      "Requirement already satisfied: gast>=0.2.1 in /opt/conda/lib/python3.7/site-packages (from tensorflow!=2.0.*,!=2.1.*,!=2.2.*,!=2.3.*,!=2.4.*,!=2.5.*,!=2.6.*,<3,>=1.15.5->tensorflow-data-validation) (0.5.3)\n",
      "Requirement already satisfied: wrapt>=1.11.0 in /opt/conda/lib/python3.7/site-packages (from tensorflow!=2.0.*,!=2.1.*,!=2.2.*,!=2.3.*,!=2.4.*,!=2.5.*,!=2.6.*,<3,>=1.15.5->tensorflow-data-validation) (1.13.3)\n",
      "Requirement already satisfied: tensorboard<2.9,>=2.8 in /opt/conda/lib/python3.7/site-packages (from tensorflow!=2.0.*,!=2.1.*,!=2.2.*,!=2.3.*,!=2.4.*,!=2.5.*,!=2.6.*,<3,>=1.15.5->tensorflow-data-validation) (2.8.0)\n",
      "Requirement already satisfied: flatbuffers>=1.12 in /opt/conda/lib/python3.7/site-packages (from tensorflow!=2.0.*,!=2.1.*,!=2.2.*,!=2.3.*,!=2.4.*,!=2.5.*,!=2.6.*,<3,>=1.15.5->tensorflow-data-validation) (2.0)\n",
      "Requirement already satisfied: keras-preprocessing>=1.1.1 in /opt/conda/lib/python3.7/site-packages (from tensorflow!=2.0.*,!=2.1.*,!=2.2.*,!=2.3.*,!=2.4.*,!=2.5.*,!=2.6.*,<3,>=1.15.5->tensorflow-data-validation) (1.1.2)\n",
      "Requirement already satisfied: setuptools in /opt/conda/lib/python3.7/site-packages (from tensorflow!=2.0.*,!=2.1.*,!=2.2.*,!=2.3.*,!=2.4.*,!=2.5.*,!=2.6.*,<3,>=1.15.5->tensorflow-data-validation) (59.8.0)\n",
      "Requirement already satisfied: tf-estimator-nightly==2.8.0.dev2021122109 in /opt/conda/lib/python3.7/site-packages (from tensorflow!=2.0.*,!=2.1.*,!=2.2.*,!=2.3.*,!=2.4.*,!=2.5.*,!=2.6.*,<3,>=1.15.5->tensorflow-data-validation) (2.8.0.dev2021122109)\n",
      "Requirement already satisfied: termcolor>=1.1.0 in /opt/conda/lib/python3.7/site-packages (from tensorflow!=2.0.*,!=2.1.*,!=2.2.*,!=2.3.*,!=2.4.*,!=2.5.*,!=2.6.*,<3,>=1.15.5->tensorflow-data-validation) (1.1.0)\n",
      "Requirement already satisfied: google-pasta>=0.1.1 in /opt/conda/lib/python3.7/site-packages (from tensorflow!=2.0.*,!=2.1.*,!=2.2.*,!=2.3.*,!=2.4.*,!=2.5.*,!=2.6.*,<3,>=1.15.5->tensorflow-data-validation) (0.2.0)\n",
      "Requirement already satisfied: h5py>=2.9.0 in /opt/conda/lib/python3.7/site-packages (from tensorflow!=2.0.*,!=2.1.*,!=2.2.*,!=2.3.*,!=2.4.*,!=2.5.*,!=2.6.*,<3,>=1.15.5->tensorflow-data-validation) (3.6.0)\n",
      "Requirement already satisfied: tensorflow-io-gcs-filesystem>=0.23.1 in /opt/conda/lib/python3.7/site-packages (from tensorflow!=2.0.*,!=2.1.*,!=2.2.*,!=2.3.*,!=2.4.*,!=2.5.*,!=2.6.*,<3,>=1.15.5->tensorflow-data-validation) (0.23.1)\n",
      "Requirement already satisfied: keras<2.9,>=2.8.0rc0 in /opt/conda/lib/python3.7/site-packages (from tensorflow!=2.0.*,!=2.1.*,!=2.2.*,!=2.3.*,!=2.4.*,!=2.5.*,!=2.6.*,<3,>=1.15.5->tensorflow-data-validation) (2.8.0rc0)\n",
      "Requirement already satisfied: googleapis-common-protos<2,>=1.52.0 in /opt/conda/lib/python3.7/site-packages (from tensorflow-metadata<1.7,>=1.6.0->tensorflow-data-validation) (1.54.0)\n",
      "Requirement already satisfied: tensorflow-serving-api!=2.0.*,!=2.1.*,!=2.2.*,!=2.3.*,!=2.4.*,!=2.5.*,!=2.6.*,<3,>=1.15 in /opt/conda/lib/python3.7/site-packages (from tfx-bsl<1.7,>=1.6.0->tensorflow-data-validation) (2.7.0)\n",
      "Collecting google-api-python-client<2,>=1.7.11\n",
      "  Using cached google_api_python_client-1.12.10-py2.py3-none-any.whl (61 kB)\n",
      "Requirement already satisfied: wheel<1.0,>=0.23.0 in /opt/conda/lib/python3.7/site-packages (from astunparse>=1.6.0->tensorflow!=2.0.*,!=2.1.*,!=2.2.*,!=2.3.*,!=2.4.*,!=2.5.*,!=2.6.*,<3,>=1.15.5->tensorflow-data-validation) (0.37.1)\n",
      "Requirement already satisfied: google-api-core<3dev,>=1.21.0 in /opt/conda/lib/python3.7/site-packages (from google-api-python-client<2,>=1.7.11->tfx-bsl<1.7,>=1.6.0->tensorflow-data-validation) (2.4.0)\n",
      "Collecting uritemplate<4dev,>=3.0.0\n",
      "  Using cached uritemplate-3.0.1-py2.py3-none-any.whl (15 kB)\n",
      "Requirement already satisfied: google-auth-httplib2>=0.0.3 in /opt/conda/lib/python3.7/site-packages (from google-api-python-client<2,>=1.7.11->tfx-bsl<1.7,>=1.6.0->tensorflow-data-validation) (0.1.0)\n",
      "Requirement already satisfied: fasteners>=0.14 in /opt/conda/lib/python3.7/site-packages (from google-apitools<0.5.32,>=0.5.31->apache-beam[gcp]<3,>=2.35->tensorflow-data-validation) (0.17.3)\n",
      "Requirement already satisfied: rsa<5,>=3.1.4 in /opt/conda/lib/python3.7/site-packages (from google-auth<3,>=1.18.0->apache-beam[gcp]<3,>=2.35->tensorflow-data-validation) (4.8)\n",
      "Requirement already satisfied: pyasn1-modules>=0.2.1 in /opt/conda/lib/python3.7/site-packages (from google-auth<3,>=1.18.0->apache-beam[gcp]<3,>=2.35->tensorflow-data-validation) (0.2.7)\n",
      "Requirement already satisfied: google-resumable-media<3.0dev,>=0.6.0 in /opt/conda/lib/python3.7/site-packages (from google-cloud-bigquery<3,>=1.6.0->apache-beam[gcp]<3,>=2.35->tensorflow-data-validation) (2.1.0)\n",
      "Requirement already satisfied: packaging>=14.3 in /opt/conda/lib/python3.7/site-packages (from google-cloud-bigquery<3,>=1.6.0->apache-beam[gcp]<3,>=2.35->tensorflow-data-validation) (21.3)\n",
      "Requirement already satisfied: libcst>=0.2.5 in /opt/conda/lib/python3.7/site-packages (from google-cloud-bigquery-storage>=2.6.3->apache-beam[gcp]<3,>=2.35->tensorflow-data-validation) (0.4.1)\n",
      "Collecting google-api-core[grpc]<3.0.0dev,>=1.29.0\n",
      "  Using cached google_api_core-1.31.5-py2.py3-none-any.whl (93 kB)\n",
      "Requirement already satisfied: grpc-google-iam-v1<0.13dev,>=0.12.3 in /opt/conda/lib/python3.7/site-packages (from google-cloud-bigtable<2,>=0.31.1->apache-beam[gcp]<3,>=2.35->tensorflow-data-validation) (0.12.3)\n",
      "Collecting google-auth<3,>=1.18.0\n",
      "  Using cached google_auth-1.35.0-py2.py3-none-any.whl (152 kB)\n",
      "Requirement already satisfied: cached-property in /opt/conda/lib/python3.7/site-packages (from h5py>=2.9.0->tensorflow!=2.0.*,!=2.1.*,!=2.2.*,!=2.3.*,!=2.4.*,!=2.5.*,!=2.6.*,<3,>=1.15.5->tensorflow-data-validation) (1.5.2)\n",
      "Requirement already satisfied: docopt in /opt/conda/lib/python3.7/site-packages (from hdfs<3.0.0,>=2.1.0->apache-beam[gcp]<3,>=2.35->tensorflow-data-validation) (0.6.2)\n",
      "Collecting pyparsing<3,>=2.4.2\n",
      "  Using cached pyparsing-2.4.7-py2.py3-none-any.whl (67 kB)\n",
      "Requirement already satisfied: pyasn1>=0.1.7 in /opt/conda/lib/python3.7/site-packages (from oauth2client<5,>=2.0.1->apache-beam[gcp]<3,>=2.35->tensorflow-data-validation) (0.4.8)\n",
      "Requirement already satisfied: charset-normalizer~=2.0.0 in /opt/conda/lib/python3.7/site-packages (from requests<3.0.0,>=2.24.0->apache-beam[gcp]<3,>=2.35->tensorflow-data-validation) (2.0.11)\n",
      "Requirement already satisfied: idna<4,>=2.5 in /opt/conda/lib/python3.7/site-packages (from requests<3.0.0,>=2.24.0->apache-beam[gcp]<3,>=2.35->tensorflow-data-validation) (3.3)\n",
      "Requirement already satisfied: urllib3<1.27,>=1.21.1 in /opt/conda/lib/python3.7/site-packages (from requests<3.0.0,>=2.24.0->apache-beam[gcp]<3,>=2.35->tensorflow-data-validation) (1.26.8)\n",
      "Requirement already satisfied: certifi>=2017.4.17 in /opt/conda/lib/python3.7/site-packages (from requests<3.0.0,>=2.24.0->apache-beam[gcp]<3,>=2.35->tensorflow-data-validation) (2021.10.8)\n",
      "Requirement already satisfied: google-auth-oauthlib<0.5,>=0.4.1 in /opt/conda/lib/python3.7/site-packages (from tensorboard<2.9,>=2.8->tensorflow!=2.0.*,!=2.1.*,!=2.2.*,!=2.3.*,!=2.4.*,!=2.5.*,!=2.6.*,<3,>=1.15.5->tensorflow-data-validation) (0.4.6)\n",
      "Requirement already satisfied: tensorboard-plugin-wit>=1.6.0 in /opt/conda/lib/python3.7/site-packages (from tensorboard<2.9,>=2.8->tensorflow!=2.0.*,!=2.1.*,!=2.2.*,!=2.3.*,!=2.4.*,!=2.5.*,!=2.6.*,<3,>=1.15.5->tensorflow-data-validation) (1.8.1)\n",
      "Requirement already satisfied: werkzeug>=0.11.15 in /opt/conda/lib/python3.7/site-packages (from tensorboard<2.9,>=2.8->tensorflow!=2.0.*,!=2.1.*,!=2.2.*,!=2.3.*,!=2.4.*,!=2.5.*,!=2.6.*,<3,>=1.15.5->tensorflow-data-validation) (2.0.2)\n",
      "Requirement already satisfied: tensorboard-data-server<0.7.0,>=0.6.0 in /opt/conda/lib/python3.7/site-packages (from tensorboard<2.9,>=2.8->tensorflow!=2.0.*,!=2.1.*,!=2.2.*,!=2.3.*,!=2.4.*,!=2.5.*,!=2.6.*,<3,>=1.15.5->tensorflow-data-validation) (0.6.1)\n",
      "Requirement already satisfied: markdown>=2.6.8 in /opt/conda/lib/python3.7/site-packages (from tensorboard<2.9,>=2.8->tensorflow!=2.0.*,!=2.1.*,!=2.2.*,!=2.3.*,!=2.4.*,!=2.5.*,!=2.6.*,<3,>=1.15.5->tensorflow-data-validation) (3.3.6)\n",
      "Requirement already satisfied: requests-oauthlib>=0.7.0 in /opt/conda/lib/python3.7/site-packages (from google-auth-oauthlib<0.5,>=0.4.1->tensorboard<2.9,>=2.8->tensorflow!=2.0.*,!=2.1.*,!=2.2.*,!=2.3.*,!=2.4.*,!=2.5.*,!=2.6.*,<3,>=1.15.5->tensorflow-data-validation) (1.3.1)\n",
      "Requirement already satisfied: google-crc32c<2.0dev,>=1.0 in /opt/conda/lib/python3.7/site-packages (from google-resumable-media<3.0dev,>=0.6.0->google-cloud-bigquery<3,>=1.6.0->apache-beam[gcp]<3,>=2.35->tensorflow-data-validation) (1.1.2)\n",
      "Requirement already satisfied: typing-inspect>=0.4.0 in /opt/conda/lib/python3.7/site-packages (from libcst>=0.2.5->google-cloud-bigquery-storage>=2.6.3->apache-beam[gcp]<3,>=2.35->tensorflow-data-validation) (0.7.1)\n",
      "Requirement already satisfied: pyyaml>=5.2 in /opt/conda/lib/python3.7/site-packages (from libcst>=0.2.5->google-cloud-bigquery-storage>=2.6.3->apache-beam[gcp]<3,>=2.35->tensorflow-data-validation) (6.0)\n",
      "Requirement already satisfied: importlib-metadata>=4.4 in /opt/conda/lib/python3.7/site-packages (from markdown>=2.6.8->tensorboard<2.9,>=2.8->tensorflow!=2.0.*,!=2.1.*,!=2.2.*,!=2.3.*,!=2.4.*,!=2.5.*,!=2.6.*,<3,>=1.15.5->tensorflow-data-validation) (4.10.1)\n",
      "Requirement already satisfied: cffi>=1.0.0 in /opt/conda/lib/python3.7/site-packages (from google-crc32c<2.0dev,>=1.0->google-resumable-media<3.0dev,>=0.6.0->google-cloud-bigquery<3,>=1.6.0->apache-beam[gcp]<3,>=2.35->tensorflow-data-validation) (1.15.0)\n",
      "Requirement already satisfied: zipp>=0.5 in /opt/conda/lib/python3.7/site-packages (from importlib-metadata>=4.4->markdown>=2.6.8->tensorboard<2.9,>=2.8->tensorflow!=2.0.*,!=2.1.*,!=2.2.*,!=2.3.*,!=2.4.*,!=2.5.*,!=2.6.*,<3,>=1.15.5->tensorflow-data-validation) (3.7.0)\n",
      "Requirement already satisfied: oauthlib>=3.0.0 in /opt/conda/lib/python3.7/site-packages (from requests-oauthlib>=0.7.0->google-auth-oauthlib<0.5,>=0.4.1->tensorboard<2.9,>=2.8->tensorflow!=2.0.*,!=2.1.*,!=2.2.*,!=2.3.*,!=2.4.*,!=2.5.*,!=2.6.*,<3,>=1.15.5->tensorflow-data-validation) (3.2.0)\n",
      "Requirement already satisfied: mypy-extensions>=0.3.0 in /opt/conda/lib/python3.7/site-packages (from typing-inspect>=0.4.0->libcst>=0.2.5->google-cloud-bigquery-storage>=2.6.3->apache-beam[gcp]<3,>=2.35->tensorflow-data-validation) (0.4.3)\n",
      "Requirement already satisfied: pycparser in /opt/conda/lib/python3.7/site-packages (from cffi>=1.0.0->google-crc32c<2.0dev,>=1.0->google-resumable-media<3.0dev,>=0.6.0->google-cloud-bigquery<3,>=1.6.0->apache-beam[gcp]<3,>=2.35->tensorflow-data-validation) (2.21)\n",
      "Installing collected packages: typing-extensions, joblib, uritemplate, pyparsing, numpy, dill, pyarrow, httplib2, google-auth, google-api-core, google-cloud-core, google-api-python-client, google-cloud-vision, google-cloud-videointelligence, google-cloud-spanner, google-cloud-language, google-cloud-datastore, google-cloud-bigtable, tensorflow-data-validation\n",
      "\u001b[33m  WARNING: The scripts f2py, f2py3 and f2py3.7 are installed in '/home/jupyter/.local/bin' which is not on PATH.\n",
      "  Consider adding this directory to PATH or, if you prefer to suppress this warning, use --no-warn-script-location.\u001b[0m\u001b[33m\n",
      "\u001b[0m\u001b[33m  WARNING: The script plasma_store is installed in '/home/jupyter/.local/bin' which is not on PATH.\n",
      "  Consider adding this directory to PATH or, if you prefer to suppress this warning, use --no-warn-script-location.\u001b[0m\u001b[33m\n",
      "\u001b[0m\u001b[31mERROR: pip's dependency resolver does not currently take into account all the packages that are installed. This behaviour is the source of the following dependency conflicts.\n",
      "tensorflow-transform 1.6.0 requires tensorflow!=2.0.*,!=2.1.*,!=2.2.*,!=2.3.*,!=2.4.*,!=2.5.*,!=2.6.*,<2.8,>=1.15.5, but you have tensorflow 2.8.0 which is incompatible.\n",
      "pandas-profiling 3.1.0 requires joblib~=1.0.1, but you have joblib 0.14.1 which is incompatible.\n",
      "google-cloud-aiplatform 1.9.0 requires google-cloud-storage<2.0.0dev,>=1.32.0, but you have google-cloud-storage 2.0.0 which is incompatible.\u001b[0m\u001b[31m\n",
      "\u001b[0mSuccessfully installed dill-0.3.1.1 google-api-core-1.31.5 google-api-python-client-1.12.10 google-auth-1.35.0 google-cloud-bigtable-1.7.0 google-cloud-core-1.7.2 google-cloud-datastore-1.15.3 google-cloud-language-1.3.0 google-cloud-spanner-1.19.1 google-cloud-videointelligence-1.16.1 google-cloud-vision-1.0.0 httplib2-0.19.1 joblib-0.14.1 numpy-1.20.3 pyarrow-5.0.0 pyparsing-2.4.7 tensorflow-data-validation-1.6.0 typing-extensions-3.10.0.2 uritemplate-3.0.1\n",
      "Note: you may need to restart the kernel to use updated packages.\n"
     ]
    }
   ],
   "source": [
    "%pip install --user tensorflow-data-validation"
   ]
  },
  {
   "cell_type": "code",
   "execution_count": 2,
   "id": "aa5aecc5-ce80-4fb0-a377-10bababcc115",
   "metadata": {},
   "outputs": [],
   "source": [
    "import tensorflow_data_validation as tfdv"
   ]
  },
  {
   "cell_type": "code",
   "execution_count": 27,
   "id": "36eae570-8dba-4ae5-8eef-ce35ed2879ee",
   "metadata": {},
   "outputs": [],
   "source": [
    "from google.cloud import aiplatform\n",
    "from google.cloud import aiplatform_v1\n",
    "import os"
   ]
  },
  {
   "cell_type": "code",
   "execution_count": 4,
   "id": "3e79c817-3bc2-4200-8721-e23d513ad7a7",
   "metadata": {},
   "outputs": [],
   "source": [
    "pipeline_name = \"ihr-my-pipeline\"\n",
    "project_id = \"ihr-vertex-pipelines\"\n",
    "region = \"europe-west4\"\n",
    "aiplatform.init(project=project_id, location=region)"
   ]
  },
  {
   "cell_type": "code",
   "execution_count": 5,
   "id": "2625d685-20b2-48fc-96b3-7216336e4aeb",
   "metadata": {},
   "outputs": [],
   "source": [
    "df = aiplatform.get_pipeline_df(pipeline=pipeline_name)"
   ]
  },
  {
   "cell_type": "code",
   "execution_count": 6,
   "id": "6ecad5ce-2ed0-4e19-b4cf-5b53f7df5b31",
   "metadata": {},
   "outputs": [
    {
     "data": {
      "text/html": [
       "<div>\n",
       "<style scoped>\n",
       "    .dataframe tbody tr th:only-of-type {\n",
       "        vertical-align: middle;\n",
       "    }\n",
       "\n",
       "    .dataframe tbody tr th {\n",
       "        vertical-align: top;\n",
       "    }\n",
       "\n",
       "    .dataframe thead th {\n",
       "        text-align: right;\n",
       "    }\n",
       "</style>\n",
       "<table border=\"1\" class=\"dataframe\">\n",
       "  <thead>\n",
       "    <tr style=\"text-align: right;\">\n",
       "      <th></th>\n",
       "      <th>pipeline_name</th>\n",
       "      <th>run_name</th>\n",
       "    </tr>\n",
       "  </thead>\n",
       "  <tbody>\n",
       "    <tr>\n",
       "      <th>0</th>\n",
       "      <td>ihr-my-pipeline</td>\n",
       "      <td>ihr-my-pipeline-20220228110721</td>\n",
       "    </tr>\n",
       "    <tr>\n",
       "      <th>1</th>\n",
       "      <td>ihr-my-pipeline</td>\n",
       "      <td>ihr-my-pipeline-20220228104837</td>\n",
       "    </tr>\n",
       "    <tr>\n",
       "      <th>2</th>\n",
       "      <td>ihr-my-pipeline</td>\n",
       "      <td>ihr-my-pipeline-20220228103007</td>\n",
       "    </tr>\n",
       "  </tbody>\n",
       "</table>\n",
       "</div>"
      ],
      "text/plain": [
       "     pipeline_name                        run_name\n",
       "0  ihr-my-pipeline  ihr-my-pipeline-20220228110721\n",
       "1  ihr-my-pipeline  ihr-my-pipeline-20220228104837\n",
       "2  ihr-my-pipeline  ihr-my-pipeline-20220228103007"
      ]
     },
     "execution_count": 6,
     "metadata": {},
     "output_type": "execute_result"
    }
   ],
   "source": [
    "df"
   ]
  },
  {
   "cell_type": "code",
   "execution_count": 7,
   "id": "18e17a4b-77e4-4c1f-8ac4-c08b9404068e",
   "metadata": {},
   "outputs": [],
   "source": [
    "API_ENDPOINT = \"{}-aiplatform.googleapis.com\".format(region)\n",
    "metadata_client = aiplatform_v1.MetadataServiceClient(\n",
    "  client_options={\n",
    "      \"api_endpoint\": API_ENDPOINT\n",
    "  }\n",
    ")"
   ]
  },
  {
   "cell_type": "code",
   "execution_count": 10,
   "id": "50aaf2b9-5777-4a46-b1a5-c3c9b860a349",
   "metadata": {},
   "outputs": [],
   "source": [
    "LIVE_FILTER = \"create_time > \\\"2022-02-27T21:30:00+10:00\\\" AND state = LIVE\"\n",
    "\n",
    "artifact_request = aiplatform_v1.ListArtifactsRequest(\n",
    "    parent=\"projects/{0}/locations/{1}/metadataStores/default\".format(project_id, region),\n",
    "\tfilter=LIVE_FILTER)"
   ]
  },
  {
   "cell_type": "code",
   "execution_count": 12,
   "id": "383e84d8-7193-4c3a-99c2-cfad0958aa5f",
   "metadata": {},
   "outputs": [],
   "source": [
    "artifacts = metadata_client.list_artifacts(artifact_request)"
   ]
  },
  {
   "cell_type": "markdown",
   "id": "a53fe0be-623e-496d-aa81-0b637b3e12cb",
   "metadata": {},
   "source": [
    "## Visualizing statistics"
   ]
  },
  {
   "cell_type": "code",
   "execution_count": 24,
   "id": "3dcf5e51-37db-4ed4-ac81-98926ea2c89b",
   "metadata": {},
   "outputs": [],
   "source": [
    "stats_artifacts = [a for a in artifacts if a.display_name == 'statistics' and pipeline_name in a.uri]"
   ]
  },
  {
   "cell_type": "code",
   "execution_count": 25,
   "id": "ee5043e2-21cf-4e28-a3c8-4243972404ad",
   "metadata": {},
   "outputs": [],
   "source": [
    "my_uri = stats_artifacts[0].uri"
   ]
  },
  {
   "cell_type": "code",
   "execution_count": 26,
   "id": "ee0e7a09-184a-47ba-8cb9-710f4510442d",
   "metadata": {},
   "outputs": [
    {
     "data": {
      "text/plain": [
       "'gs://ihr-live-workshop/pipeline/237148598933/ihr-my-pipeline-20220228110721/StatisticsGen_8909936456147927040/statistics'"
      ]
     },
     "execution_count": 26,
     "metadata": {},
     "output_type": "execute_result"
    }
   ],
   "source": [
    "my_uri"
   ]
  },
  {
   "cell_type": "code",
   "execution_count": 28,
   "id": "8cf08d43-f075-4d4c-813c-904dddb49435",
   "metadata": {},
   "outputs": [],
   "source": [
    "train_uri = os.path.join(my_uri, \"Split-train/FeatureStats.pb\")\n",
    "eval_uri = os.path.join(my_uri, \"Split-eval/FeatureStats.pb\")"
   ]
  },
  {
   "cell_type": "code",
   "execution_count": 29,
   "id": "8b1236b9-2c17-4b85-b55c-7bd0c1f689b1",
   "metadata": {},
   "outputs": [
    {
     "data": {
      "text/plain": [
       "'gs://ihr-live-workshop/pipeline/237148598933/ihr-my-pipeline-20220228110721/StatisticsGen_8909936456147927040/statistics/Split-train/FeatureStats.pb'"
      ]
     },
     "execution_count": 29,
     "metadata": {},
     "output_type": "execute_result"
    }
   ],
   "source": [
    "train_uri"
   ]
  },
  {
   "cell_type": "code",
   "execution_count": 30,
   "id": "68ebf7eb-457f-4cb0-8b8b-7037adadd9ad",
   "metadata": {},
   "outputs": [],
   "source": [
    "train_stats = tfdv.load_stats_binary(train_uri)"
   ]
  },
  {
   "cell_type": "code",
   "execution_count": 32,
   "id": "6a010b75-7f4b-4920-842c-a2672ab6dfad",
   "metadata": {},
   "outputs": [
    {
     "data": {
      "text/html": [
       "<iframe id='facets-iframe' width=\"100%\" height=\"500px\"></iframe>\n",
       "        <script>\n",
       "        facets_iframe = document.getElementById('facets-iframe');\n",
       "        facets_html = '<script src=\"https://cdnjs.cloudflare.com/ajax/libs/webcomponentsjs/1.3.3/webcomponents-lite.js\"><\\/script><link rel=\"import\" href=\"https://raw.githubusercontent.com/PAIR-code/facets/master/facets-dist/facets-jupyter.html\"><facets-overview proto-input=\"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\"></facets-overview>';\n",
       "        facets_iframe.srcdoc = facets_html;\n",
       "         facets_iframe.id = \"\";\n",
       "         setTimeout(() => {\n",
       "           facets_iframe.setAttribute('height', facets_iframe.contentWindow.document.body.offsetHeight + 'px')\n",
       "         }, 1500)\n",
       "         </script>"
      ],
      "text/plain": [
       "<IPython.core.display.HTML object>"
      ]
     },
     "metadata": {},
     "output_type": "display_data"
    }
   ],
   "source": [
    "tfdv.visualize_statistics(train_stats)"
   ]
  },
  {
   "cell_type": "code",
   "execution_count": 33,
   "id": "a65968a8-5f4a-4c63-87db-e7b75e0af902",
   "metadata": {},
   "outputs": [
    {
     "data": {
      "text/html": [
       "<iframe id='facets-iframe' width=\"100%\" height=\"500px\"></iframe>\n",
       "        <script>\n",
       "        facets_iframe = document.getElementById('facets-iframe');\n",
       "        facets_html = '<script src=\"https://cdnjs.cloudflare.com/ajax/libs/webcomponentsjs/1.3.3/webcomponents-lite.js\"><\\/script><link rel=\"import\" href=\"https://raw.githubusercontent.com/PAIR-code/facets/master/facets-dist/facets-jupyter.html\"><facets-overview proto-input=\"CrbnAQoObGhzX3N0YXRpc3RpY3MQ1OQFGqsHEAEanAcKuAII1OQFGAEgAS0AAIA/MqQCGhsJAAAAAAAA8D8RAAAAAAAA8D8hMzMzMzOEwkAaGwkAAAAAAADwPxEAAAAAAADwPyEzMzMzM4TCQBobCQAAAAAAAPA/EQAAAAAAAPA/ITMzMzMzhMJAGhsJAAAAAAAA8D8RAAAAAAAA8D8hMzMzMzOEwkAaGwkAAAAAAADwPxEAAAAAAADwPyEzMzMzM4TCQBobCQAAAAAAAPA/EQAAAAAAAPA/ITMzMzMzhMJAGhsJAAAAAAAA8D8RAAAAAAAA8D8hMzMzMzOEwkAaGwkAAAAAAADwPxEAAAAAAADwPyEzMzMzM4TCQBobCQAAAAAAAPA/EQAAAAAAAPA/ITMzMzMzhMJAGhsJAAAAAAAA8D8RAAAAAAAA8D8hMzMzMzOEwkAgAUDU5AUR5TPElj1FVkAZIbTTbXvBcEAg2AQxAAAAIIXrNUA5AAAAQMoW2UBCmQIaEhFmZmZmOxKkQCFhnJHNVRv3QBobCWZmZmY7EqRAEWZmZmY7ErRAIc3D3h8wEFJAGhsJZmZmZjsStEARmZmZGVkbvkAhjbuvmZmYJUAaGwmZmZkZWRu+QBFmZmZmOxLEQCGNu6+ZmZglQBobCWZmZmY7EsRAEQAAAEDKFslAIY+7r5mZmCVAGhsJAAAAQMoWyUARmZmZGVkbzkAhi7uvmZmYJUAaGwmZmZkZWRvOQBGZmZn584/RQCGLu6+ZmZglQBobCZmZmfnzj9FAEWZmZmY7EtRAIY+7r5mZmCVAGhsJZmZmZjsS1EARMzMz04KU1kAhj7uvmZmYJUAaGwkzMzPTgpTWQBEAAABAyhbZQCGPu6+ZmZglQEKbAhoSEQAAAAAAAPA/ITMzMzMzhMJAGhsJAAAAAAAA8D8RAAAA4FG4DEAhMzMzMzOEwkAaGwkAAADgUbgMQBEAAACA69EhQCEzMzMzM4TCQBobCQAAAIDr0SFAEQAAAEDh+ilAITMzMzMzhMJAGhsJAAAAQOH6KUARAAAAIIXrNUAhMzMzMzOEwkAaGwkAAAAghes1QBEAAADAHmVCQCEzMzMzM4TCQBobCQAAAMAeZUJAEQAAAAAAoE1AITMzMzMzhMJAGhsJAAAAAACgTUARAAAAAAAAWUAhMzMzMzOEwkAaGwkAAAAAAABZQBEAAACAwkVpQCEzMzMzM4TCQBobCQAAAIDCRWlAEQAAAEDKFtlAITMzMzMzhMJAIAFCCAoGQW1vdW50Gv0FGvEFCrgCCNTkBRgBIAEtAACAPzKkAhobCQAAAAAAAPA/EQAAAAAAAPA/ITMzMzMzhMJAGhsJAAAAAAAA8D8RAAAAAAAA8D8hMzMzMzOEwkAaGwkAAAAAAADwPxEAAAAAAADwPyEzMzMzM4TCQBobCQAAAAAAAPA/EQAAAAAAAPA/ITMzMzMzhMJAGhsJAAAAAAAA8D8RAAAAAAAA8D8hMzMzMzOEwkAaGwkAAAAAAADwPxEAAAAAAADwPyEzMzMzM4TCQBobCQAAAAAAAPA/EQAAAAAAAPA/ITMzMzMzhMJAGhsJAAAAAAAA8D8RAAAAAAAA8D8hMzMzMzOEwkAaGwkAAAAAAADwPxEAAAAAAADwPyEzMzMzM4TCQBobCQAAAAAAAPA/EQAAAAAAAPA/ITMzMzMzhMJAIAFA1OQFEQtqjsNrK1w/GUkQGRY2NqU/ILHjBTkAAAAAAADwP0KZAhoSEZqZmZmZmbk/IdGzWfX9GfdAGhsJmpmZmZmZuT8RmpmZmZmZyT8hL/8h/fb1IkAaGwmamZmZmZnJPxE0MzMzMzPTPyEw/yH99vUiQBobCTQzMzMzM9M/EZqZmZmZmdk/IS3/If329SJAGhsJmpmZmZmZ2T8RAAAAAAAA4D8hLf8h/fb1IkAaGwkAAAAAAADgPxE0MzMzMzPjPyEz/yH99vUiQBobCTQzMzMzM+M/EWdmZmZmZuY/IS3/If329SJAGhsJZ2ZmZmZm5j8RmpmZmZmZ6T8hLf8h/fb1IkAaGwmamZmZmZnpPxHNzMzMzMzsPyEt/yH99vUiQBobCc3MzMzMzOw/EQAAAAAAAPA/IeC+DpwzElpAQnkaCSEzMzMzM4TCQBoJITMzMzMzhMJAGgkhMzMzMzOEwkAaCSEzMzMzM4TCQBoJITMzMzMzhMJAGgkhMzMzMzOEwkAaCSEzMzMzM4TCQBoJITMzMzMzhMJAGgkhMzMzMzOEwkAaEhEAAAAAAADwPyEzMzMzM4TCQCABQgcKBUNsYXNzGqYHGpsHCrgCCNTkBRgBIAEtAACAPzKkAhobCQAAAAAAAPA/EQAAAAAAAPA/ITMzMzMzhMJAGhsJAAAAAAAA8D8RAAAAAAAA8D8hMzMzMzOEwkAaGwkAAAAAAADwPxEAAAAAAADwPyEzMzMzM4TCQBobCQAAAAAAAPA/EQAAAAAAAPA/ITMzMzMzhMJAGhsJAAAAAAAA8D8RAAAAAAAA8D8hMzMzMzOEwkAaGwkAAAAAAADwPxEAAAAAAADwPyEzMzMzM4TCQBobCQAAAAAAAPA/EQAAAAAAAPA/ITMzMzMzhMJAGhsJAAAAAAAA8D8RAAAAAAAA8D8hMzMzMzOEwkAaGwkAAAAAAADwPxEAAAAAAADwPyEzMzMzM4TCQBobCQAAAAAAAPA/EQAAAAAAAPA/ITMzMzMzhMJAIAFA1OQFEYz7K7jFKPdAGYcrL4IlM+dAIAExAAAAAPCv9EA5AAAAAMAXBUFCmQIaEhHNzMzMzN/QQCFk1c/IUDmrQBobCc3MzMzM39BAEc3MzMzM3+BAIULmopklCLZAGhsJzczMzMzf4EARNDMzM7NP6UAhNzF3tE7WyEAaGwk0MzMzs0/pQBHNzMzMzN/wQCHsp25FCDXJQBobCc3MzMzM3/BAEQAAAADAF/VAIWl17W56L8pAGhsJAAAAAMAX9UARNDMzM7NP+UAhDEXUmzGUqkAaGwk0MzMzs0/5QBFnZmZmpof9QCG0fw519za2QBobCWdmZmamh/1AEc3MzMzM3wBBIWsu3e7DTMlAGhsJzczMzMzfAEERZ2ZmZsb7AkEh6LlTUTBqykAaGwlnZmZmxvsCQREAAAAAwBcFQSGLD3o2S6XFQEKbAhoSEQAAAABAHeFAITMzMzMzhMJAGhsJAAAAAEAd4UARAAAAAOBM50AhMzMzMzOEwkAaGwkAAAAA4EznQBEAAAAAwK/tQCEzMzMzM4TCQBobCQAAAADAr+1AEQAAAADQ5fFAITMzMzMzhMJAGhsJAAAAANDl8UARAAAAAPCv9EAhMzMzMzOEwkAaGwkAAAAA8K/0QBEAAAAAQGn9QCEzMzMzM4TCQBobCQAAAABAaf1AEQAAAABYPwBBITMzMzMzhMJAGhsJAAAAAFg/AEERAAAAADi8AUEhMzMzMzOEwkAaGwkAAAAAOLwBQREAAAAAYEIDQSEzMzMzM4TCQBobCQAAAABgQgNBEQAAAADAFwVBITMzMzMzhMJAIAFCBgoEVGltZRq/BxABGrQHCrgCCNTkBRgBIAEtAACAPzKkAhobCQAAAAAAAPA/EQAAAAAAAPA/ITMzMzMzhMJAGhsJAAAAAAAA8D8RAAAAAAAA8D8hMzMzMzOEwkAaGwkAAAAAAADwPxEAAAAAAADwPyEzMzMzM4TCQBobCQAAAAAAAPA/EQAAAAAAAPA/ITMzMzMzhMJAGhsJAAAAAAAA8D8RAAAAAAAA8D8hMzMzMzOEwkAaGwkAAAAAAADwPxEAAAAAAADwPyEzMzMzM4TCQBobCQAAAAAAAPA/EQAAAAAAAPA/ITMzMzMzhMJAGhsJAAAAAAAA8D8RAAAAAAAA8D8hMzMzMzOEwkAaGwkAAAAAAADwPxEAAAAAAADwPyEzMzMzM4TCQBobCQAAAAAAAPA/EQAAAAAAAPA/ITMzMzMzhMJAIAFA1OQFEbRKu0SzXXQ/GedkYX4YTP8/KQAAAEApNEzAMQAAAECOu5A/OQAAAGCyowNAQqICGhsJAAAAQCk0TMARZmZmz7hCScAhYEgtJ5DxK0AaGwlmZmbPuEJJwBHNzMxeSFFGwCFWSC0nkPErQBobCc3MzF5IUUbAETMzM+7XX0PAIWBILSeQ8StAGhsJMzMz7tdfQ8ARmpmZfWduQMAhVkgtJ5DxK0AaGwmamZl9Z25AwBEAAAAa7vk6wCFgSC0nkPErQBobCQAAABru+TrAEczMzDgNFzXAIWBILSeQ8StAGhsJzMzMOA0XNcARNDMzr1hoLsAhhkljYXlTQkAaGwk0MzOvWGguwBHMzMzslqIiwCHDtW3ZgUdxQBobCczMzOyWoiLAEZCZmalUcwvAISfWymBa/qdAGhsJkJmZqVRzC8ARAAAAYLKjA0Ahsrbs8H1M9kBCpAIaGwkAAABAKTRMwBEAAAAghDL+vyEzMzMzM4TCQBobCQAAACCEMv6/EQAAAIBeGvK/ITMzMzMzhMJAGhsJAAAAgF4a8r8RAAAAICr4578hMzMzMzOEwkAaGwkAAAAgKvjnvxEAAACA8JLbvyEzMzMzM4TCQBobCQAAAIDwktu/EQAAAECOu5A/ITMzMzMzhMJAGhsJAAAAQI67kD8RAAAAoBGp8D8hMzMzMzOEwkAaGwkAAACgEanwPxEAAADAqZnzPyEzMzMzM4TCQBobCQAAAMCpmfM/EQAAAADwYfs/ITMzMzMzhMJAGhsJAAAAAPBh+z8RAAAAQOYjAEAhMzMzMzOEwkAaGwkAAABA5iMAQBEAAABgsqMDQCEzMzMzM4TCQCABQgQKAlYxGsAHEAEatAcKuAII1OQFGAEgAS0AAIA/MqQCGhsJAAAAAAAA8D8RAAAAAAAA8D8hMzMzMzOEwkAaGwkAAAAAAADwPxEAAAAAAADwPyEzMzMzM4TCQBobCQAAAAAAAPA/EQAAAAAAAPA/ITMzMzMzhMJAGhsJAAAAAAAA8D8RAAAAAAAA8D8hMzMzMzOEwkAaGwkAAAAAAADwPxEAAAAAAADwPyEzMzMzM4TCQBobCQAAAAAAAPA/EQAAAAAAAPA/ITMzMzMzhMJAGhsJAAAAAAAA8D8RAAAAAAAA8D8hMzMzMzOEwkAaGwkAAAAAAADwPxEAAAAAAADwPyEzMzMzM4TCQBobCQAAAAAAAPA/EQAAAAAAAPA/ITMzMzMzhMJAGhsJAAAAAAAA8D8RAAAAAAAA8D8hMzMzMzOEwkAgAUDU5AURwHMnNvBfbb8ZGf77QIuQ8T8pAAAAAOUvNsAxAAAAYPxyuL85AAAAANqpLkBCogIaGwkAAAAA5S82wBGamZmZaW8ywCE8r5ddLQg2QBobCZqZmZlpbzLAEWZmZmbcXS3AIUGvl10tCDZAGhsJZmZmZtxdLcARmpmZmeXcJcAhPK+XXS0INkAaGwmamZmZ5dwlwBGamZmZ3bccwCE+r5ddLQg2QBobCZqZmZndtxzAEQAAAADgawvAIcVKGsYpZWFAGhsJAAAAAOBrC8ARgJmZmdm/1D8haknq3hKY8EAaGwmAmZmZ2b/UPxE0MzMz600QQCGkO3aYe1bZQBobCTQzMzPrTRBAEczMzMzYTx9AIVJe6LWA7n5AGhsJzMzMzNhPH0ARNDMzM+MoJ0Ahz4j25rX+W0AaGwk0MzMz4ygnQBEAAAAA2qkuQCFP3nRwZFtLQEKkAhobCQAAAADlLzbAEQAAAODbjPC/ITMzMzMzhMJAGhsJAAAA4NuM8L8RAAAAQG9b5b8hMzMzMzOEwkAaGwkAAABAb1vlvxEAAACgnULbvyEzMzMzM4TCQBobCQAAAKCdQtu/EQAAAMDg9M+/ITMzMzMzhMJAGhsJAAAAwOD0z78RAAAAYPxyuL8hMzMzMzOEwkAaGwkAAABg/HK4vxEAAABgvtqsPyEzMzMzM4TCQBobCQAAAGC+2qw/EQAAAIBj2tA/ITMzMzMzhMJAGhsJAAAAgGPa0D8RAAAAoFCv5D8hMzMzMzOEwkAaGwkAAACgUK/kPxEAAAAAz9nxPyEzMzMzM4TCQBobCQAAAADP2fE/EQAAAADaqS5AITMzMzMzhMJAIAFCBQoDVjEwGsAHEAEatAcKuAII1OQFGAEgAS0AAIA/MqQCGhsJAAAAAAAA8D8RAAAAAAAA8D8hMzMzMzOEwkAaGwkAAAAAAADwPxEAAAAAAADwPyEzMzMzM4TCQBobCQAAAAAAAPA/EQAAAAAAAPA/ITMzMzMzhMJAGhsJAAAAAAAA8D8RAAAAAAAA8D8hMzMzMzOEwkAaGwkAAAAAAADwPxEAAAAAAADwPyEzMzMzM4TCQBobCQAAAAAAAPA/EQAAAAAAAPA/ITMzMzMzhMJAGhsJAAAAAAAA8D8RAAAAAAAA8D8hMzMzMzOEwkAaGwkAAAAAAADwPxEAAAAAAADwPyEzMzMzM4TCQBobCQAAAAAAAPA/EQAAAAAAAPA/ITMzMzMzhMJAGhsJAAAAAAAA8D8RAAAAAAAA8D8hMzMzMzOEwkAgAUDU5AURpvv4J1FCZj8ZKQEiKqZY8D8pAAAAwL7QEcAxAAAAAHsroL85AAAAAK8JKEBCogIaGwkAAADAvtARwBFmZmYm3nMGwCHwrUaV3PBWQBobCWZmZibecwbAEZqZmZl9jPK/IbhsQAXd+MdAGhsJmpmZmX2M8r8RYGZmZgQ73z8hpfFr4/T76EAaGwlgZmZmBDvfPxFmZmbm/xQBQCEQg1xnE0PdQBobCWZmZub/FAFAEQAAAECfQg5AIXgXY2qygpJAGhsJAAAAQJ9CDkARzMzMTB+4FUAhepNFgbGyRUAaGwnMzMxMH7gVQBGamZn57k4cQCHHXEgv854zQBobCZqZmfnuThxAETMzM1PfciFAIcFcSC/znjNAGhsJMzMzU99yIUARmZmZKUe+JEAhwVxIL/OeM0AaGwmZmZkpR74kQBEAAAAArwkoQCHHXEgv854zQEKkAhobCQAAAMC+0BHAEQAAAOB1mfS/ITMzMzMzhMJAGhsJAAAA4HWZ9L8RAAAA4CFh7b8hMzMzMzOEwkAaGwkAAADgIWHtvxEAAADglH3jvyEzMzMzM4TCQBobCQAAAOCUfeO/EQAAAACsEdS/ITMzMzMzhMJAGhsJAAAAAKwR1L8RAAAAAHsroL8hMzMzMzOEwkAaGwkAAAAAeyugvxEAAABgdWnRPyEzMzMzM4TCQBobCQAAAGB1adE/EQAAAGCuquI/ITMzMzMzhMJAGhsJAAAAYK6q4j8RAAAAIMVq7T8hMzMzMzOEwkAaGwkAAAAgxWrtPxEAAABgCjr1PyEzMzMzM4TCQBobCQAAAGAKOvU/EQAAAACvCShAITMzMzMzhMJAIAFCBQoDVjExGsAHEAEatAcKuAII1OQFGAEgAS0AAIA/MqQCGhsJAAAAAAAA8D8RAAAAAAAA8D8hMzMzMzOEwkAaGwkAAAAAAADwPxEAAAAAAADwPyEzMzMzM4TCQBobCQAAAAAAAPA/EQAAAAAAAPA/ITMzMzMzhMJAGhsJAAAAAAAA8D8RAAAAAAAA8D8hMzMzMzOEwkAaGwkAAAAAAADwPxEAAAAAAADwPyEzMzMzM4TCQBobCQAAAAAAAPA/EQAAAAAAAPA/ITMzMzMzhMJAGhsJAAAAAAAA8D8RAAAAAAAA8D8hMzMzMzOEwkAaGwkAAAAAAADwPxEAAAAAAADwPyEzMzMzM4TCQBobCQAAAAAAAPA/EQAAAAAAAPA/ITMzMzMzhMJAGhsJAAAAAAAA8D8RAAAAAAAA8D8hMzMzMzOEwkAgAUDU5AURkMdQDmc1SD8ZrPW7XY4B8D8pAAAAIL+NMsAxAAAAIKjgwT85AAAA4MBkH0BCogIaGwkAAAAgv40ywBEAAADItNMvwCGHNhfI2Ho0QBobCQAAAMi00y/AEQAAAFDriyrAIYc2F8jYejRAGhsJAAAAUOuLKsARAAAA2CFEJcAhhzYXyNh6NEAaGwkAAADYIUQlwBEAAADAsPgfwCGHNhfI2Ho0QBobCQAAAMCw+B/AEQAAANAdaRXAIdx+6vsqOUpAGhsJAAAA0B1pFcARAAAAwBWzBcAh4lsMVUMVmUAaGwkAAADAFbMFwBEAAAAA/H2yvyGXFVtuJB/hQBobCQAAAAD8fbK/EQAAAAA2iwRAIcjaOtKYP+xAGhsJAAAAADaLBEARAAAA8C3VFEAhGUZTz1JHWEAaGwkAAADwLdUUQBEAAADgwGQfQCEhk/PbEKVIQEKkAhobCQAAACC/jTLAEQAAAIB5YvK/ITMzMzMzhMJAGhsJAAAAgHli8r8RAAAAgC4l4r8hMzMzMzOEwkAaGwkAAACALiXivxEAAADAajrRvyEzMzMzM4TCQBobCQAAAMBqOtG/EQAAAKBEw6i/ITMzMzMzhMJAGhsJAAAAoETDqL8RAAAAIKjgwT8hMzMzMzOEwkAaGwkAAAAgqODBPxEAAABASavUPyEzMzMzM4TCQBobCQAAAEBJq9Q/EQAAAMAQgOA/ITMzMzMzhMJAGhsJAAAAwBCA4D8RAAAAYE9r5z8hMzMzMzOEwkAaGwkAAABgT2vnPxEAAACgXT7wPyEzMzMzM4TCQBobCQAAAKBdPvA/EQAAAODAZB9AITMzMzMzhMJAIAFCBQoDVjEyGsAHEAEatAcKuAII1OQFGAEgAS0AAIA/MqQCGhsJAAAAAAAA8D8RAAAAAAAA8D8hMzMzMzOEwkAaGwkAAAAAAADwPxEAAAAAAADwPyEzMzMzM4TCQBobCQAAAAAAAPA/EQAAAAAAAPA/ITMzMzMzhMJAGhsJAAAAAAAA8D8RAAAAAAAA8D8hMzMzMzOEwkAaGwkAAAAAAADwPxEAAAAAAADwPyEzMzMzM4TCQBobCQAAAAAAAPA/EQAAAAAAAPA/ITMzMzMzhMJAGhsJAAAAAAAA8D8RAAAAAAAA8D8hMzMzMzOEwkAaGwkAAAAAAADwPxEAAAAAAADwPyEzMzMzM4TCQBobCQAAAAAAAPA/EQAAAAAAAPA/ITMzMzMzhMJAGhsJAAAAAAAA8D8RAAAAAAAA8D8hMzMzMzOEwkAgAUDU5AUR2hOcF04aZr8ZhLZVsArV7z8pAAAA4OIqF8AxAAAAQHVGk785AAAAoO2BHEBCogIaGwkAAADg4ioXwBGamZk5AQASwCHCqzPXbqdGQBobCZqZmTkBABLAEWZmZiY/qgnAIcerM9dup0ZAGhsJZmZmJj+qCcARMjMzs/eo/r8hCDQUFPj9okAaGwkyMzOz96j+vxEwMzMz4vrjvyE5+IpEa2TVQBobCTAzMzPi+uO/EQAAAAArXOU/IbLHudoy4uZAGhsJAAAAACtc5T8RnJmZGZxZ/z8hs3mb8cab1EAaGwmcmZkZnFn/PxGcmZlZkQIKQCEO8AijbOehQBobCZyZmVmRAgpAETQzM1MqLBJAIZoRezJOJEpAGhsJNDMzUyosEkARmpmZ+QtXF0AhbfvokecBQEAaGwmamZn5C1cXQBEAAACg7YEcQCFt++iR5wFAQEKkAhobCQAAAODiKhfAEQAAAEBVg/S/ITMzMzMzhMJAGhsJAAAAQFWD9L8RAAAAYARv6r8hMzMzMzOEwkAaGwkAAABgBG/qvxEAAAAAX+bfvyEzMzMzM4TCQBobCQAAAABf5t+/EQAAAICWKM+/ITMzMzMzhMJAGhsJAAAAgJYoz78RAAAAQHVGk78hMzMzMzOEwkAaGwkAAABAdUaTvxEAAAAgvAPNPyEzMzMzM4TCQBobCQAAACC8A80/EQAAAAAqH+A/ITMzMzMzhMJAGhsJAAAAACof4D8RAAAAoKyK6j8hMzMzMzOEwkAaGwkAAACgrIrqPxEAAADgsgj0PyEzMzMzM4TCQBobCQAAAOCyCPQ/EQAAAKDtgRxAITMzMzMzhMJAIAFCBQoDVjEzGsAHEAEatAcKuAII1OQFGAEgAS0AAIA/MqQCGhsJAAAAAAAA8D8RAAAAAAAA8D8hMzMzMzOEwkAaGwkAAAAAAADwPxEAAAAAAADwPyEzMzMzM4TCQBobCQAAAAAAAPA/EQAAAAAAAPA/ITMzMzMzhMJAGhsJAAAAAAAA8D8RAAAAAAAA8D8hMzMzMzOEwkAaGwkAAAAAAADwPxEAAAAAAADwPyEzMzMzM4TCQBobCQAAAAAAAPA/EQAAAAAAAPA/ITMzMzMzhMJAGhsJAAAAAAAA8D8RAAAAAAAA8D8hMzMzMzOEwkAaGwkAAAAAAADwPxEAAAAAAADwPyEzMzMzM4TCQBobCQAAAAAAAPA/EQAAAAAAAPA/ITMzMzMzhMJAGhsJAAAAAAAA8D8RAAAAAAAA8D8hMzMzMzOEwkAgAUDU5AURGKIDz11FZb8ZX5UNRWy/7j8pAAAAAN42M8AxAAAAgJxyqD85AAAAQLQNJUBCogIaGwkAAAAA3jYzwBGamZnJfj0wwCFTn0ZF7hg4QBobCZqZmcl+PTDAEWZmZiY/iCrAIVufRkXuGDhAGhsJZmZmJj+IKsARmpmZuYCVJMAhU59GRe4YOEAaGwmamZm5gJUkwBGamZmZhEUdwCGB5LJa43w9QBobCZqZmZmERR3AEQAAAMAHYBHAIcDYFHAUf2FAGhsJAAAAwAdgEcARoJmZmSvq9b8hyGJhJ1bds0AaGwmgmZmZK+r1vxHQzMzMx6v5PyFSk2hceRP1QBobCdDMzMzHq/k/EczMzMxuUBJAIfxV88mR6adAGhsJzMzMzG5QEkARZGZmpus1HkAh5OEj3LYiRkAaGwlkZmam6zUeQBEAAABAtA0lQCHs4SPctiJGQEKkAhobCQAAAADeNjPAEQAAAGBBFfC/ITMzMzMzhMJAGhsJAAAAYEEV8L8RAAAAAMU84r8hMzMzMzOEwkAaGwkAAAAAxTzivxEAAAAApyTUvyEzMzMzM4TCQBobCQAAAACnJNS/EQAAAIDfJL+/ITMzMzMzhMJAGhsJAAAAgN8kv78RAAAAgJxyqD8hMzMzMzOEwkAaGwkAAACAnHKoPxEAAACgtFbLPyEzMzMzM4TCQBobCQAAAKC0Vss/EQAAAEArC9k/ITMzMzMzhMJAGhsJAAAAQCsL2T8RAAAAYFF24z8hMzMzMzOEwkAaGwkAAABgUXbjPxEAAADA2HPvPyEzMzMzM4TCQBobCQAAAMDYc+8/EQAAAEC0DSVAITMzMzMzhMJAIAFCBQoDVjE0GsAHEAEatAcKuAII1OQFGAEgAS0AAIA/MqQCGhsJAAAAAAAA8D8RAAAAAAAA8D8hMzMzMzOEwkAaGwkAAAAAAADwPxEAAAAAAADwPyEzMzMzM4TCQBobCQAAAAAAAPA/EQAAAAAAAPA/ITMzMzMzhMJAGhsJAAAAAAAA8D8RAAAAAAAA8D8hMzMzMzOEwkAaGwkAAAAAAADwPxEAAAAAAADwPyEzMzMzM4TCQBobCQAAAAAAAPA/EQAAAAAAAPA/ITMzMzMzhMJAGhsJAAAAAAAA8D8RAAAAAAAA8D8hMzMzMzOEwkAaGwkAAAAAAADwPxEAAAAAAADwPyEzMzMzM4TCQBobCQAAAAAAAPA/EQAAAAAAAPA/ITMzMzMzhMJAGhsJAAAAAAAA8D8RAAAAAAAA8D8hMzMzMzOEwkAgAUDU5AURkvys+F7YSL8Zf87tEIw17T8pAAAAwLKQEcAxAAAAYEM5qD85AAAAYGfBIUBCogIaGwkAAADAspARwBEzMzMz5YMIwCFYSYBMLOBjQBobCTMzMzPlgwjAEczMzMzJzPu/IUrEBWbSpKtAGhsJzMzMzMnM+78RyMzMzCRH2r8hMrM46H8q2UAaGwnIzMzMJEfavxHQzMzMblLtPyGv8/hRNHzoQBobCdDMzMxuUu0/EQAAAAAc8gFAIUqdCsa9Cs1AGhsJAAAAABzyAUARzszMTJyPDEAhkd/D17sybkAaGwnOzMxMnI8MQBHOzMxMjpYTQCF/8tXGc/gzQBobCc7MzEyOlhNAETQzM3NO5RhAIXzy1cZz+DNAGhsJNDMzc07lGEARmpmZmQ40HkAhfPLVxnP4M0AaGwmamZmZDjQeQBEAAABgZ8EhQCF88tXGc/gzQEKkAhobCQAAAMCykBHAEQAAAAD4vfK/ITMzMzMzhMJAGhsJAAAAAPi98r8RAAAAACby578hMzMzMzOEwkAaGwkAAAAAJvLnvxEAAADgsALcvyEzMzMzM4TCQBobCQAAAOCwAty/EQAAAICOLci/ITMzMzMzhMJAGhsJAAAAgI4tyL8RAAAAYEM5qD8hMzMzMzOEwkAaGwkAAABgQzmoPxEAAAAg/3TRPyEzMzMzM4TCQBobCQAAACD/dNE/EQAAAKB9b+A/ITMzMzMzhMJAGhsJAAAAoH1v4D8RAAAAwKRt6T8hMzMzMzOEwkAaGwkAAADApG3pPxEAAAAAWvLxPyEzMzMzM4TCQBobCQAAAABa8vE/EQAAAGBnwSFAITMzMzMzhMJAIAFCBQoDVjE1GsAHEAEatAcKuAII1OQFGAEgAS0AAIA/MqQCGhsJAAAAAAAA8D8RAAAAAAAA8D8hMzMzMzOEwkAaGwkAAAAAAADwPxEAAAAAAADwPyEzMzMzM4TCQBobCQAAAAAAAPA/EQAAAAAAAPA/ITMzMzMzhMJAGhsJAAAAAAAA8D8RAAAAAAAA8D8hMzMzMzOEwkAaGwkAAAAAAADwPxEAAAAAAADwPyEzMzMzM4TCQBobCQAAAAAAAPA/EQAAAAAAAPA/ITMzMzMzhMJAGhsJAAAAAAAA8D8RAAAAAAAA8D8hMzMzMzOEwkAaGwkAAAAAAADwPxEAAAAAAADwPyEzMzMzM4TCQBobCQAAAAAAAPA/EQAAAAAAAPA/ITMzMzMzhMJAGhsJAAAAAAAA8D8RAAAAAAAA8D8hMzMzMzOEwkAgAUDU5AURAIUoXgEf8r4ZESVM948W7D8pAAAAYGUgK8AxAAAAAB/8sD85AAAAIKtQMUBCogIaGwkAAABgZSArwBFmZmY2bPMkwCFrOL0g65I/QBobCWZmZjZs8yTAEZqZmRnmjB3AIWY4vSDrkj9AGhsJmpmZGeaMHcARaGZmxvMyEcAhZji9IOuSP0AaGwloZmbG8zIRwBHQzMzMBWTzvyF55UR2iF+8QBobCdDMzMwFZPO/EQAAAIDDA/4/Ie7yMiG4HfVAGhsJAAAAgMMD/j8RMDMzM+PaE0Aht1Dj2T5Ni0AaGwkwMzMz49oTQBEyMzPDahogQCElfFJ7NiU0QBobCTIzM8NqGiBAEczMzOxjRyZAISV8Uns2JTRAGhsJzMzM7GNHJkARZmZmFl10LEAhJXxSezYlNEAaGwlmZmYWXXQsQBEAAAAgq1AxQCElfFJ7NiU0QEKkAhobCQAAAGBlICvAEQAAAECM4PC/ITMzMzMzhMJAGhsJAAAAQIzg8L8RAAAAQMvB478hMzMzMzOEwkAaGwkAAABAy8HjvxEAAABgOe3VvyEzMzMzM4TCQBobCQAAAGA57dW/EQAAAEAVKsC/ITMzMzMzhMJAGhsJAAAAQBUqwL8RAAAAAB/8sD8hMzMzMzOEwkAaGwkAAAAAH/ywPxEAAACA5brOPyEzMzMzM4TCQBobCQAAAIDlus4/EQAAAADXIds/ITMzMzMzhMJAGhsJAAAAANch2z8RAAAAYFyA5D8hMzMzMzOEwkAaGwkAAABgXIDkPxEAAABAArrvPyEzMzMzM4TCQBobCQAAAEACuu8/EQAAACCrUDFAITMzMzMzhMJAIAFCBQoDVjE2GsAHEAEatAcKuAII1OQFGAEgAS0AAIA/MqQCGhsJAAAAAAAA8D8RAAAAAAAA8D8hMzMzMzOEwkAaGwkAAAAAAADwPxEAAAAAAADwPyEzMzMzM4TCQBobCQAAAAAAAPA/EQAAAAAAAPA/ITMzMzMzhMJAGhsJAAAAAAAA8D8RAAAAAAAA8D8hMzMzMzOEwkAaGwkAAAAAAADwPxEAAAAAAADwPyEzMzMzM4TCQBobCQAAAAAAAPA/EQAAAAAAAPA/ITMzMzMzhMJAGhsJAAAAAAAA8D8RAAAAAAAA8D8hMzMzMzOEwkAaGwkAAAAAAADwPxEAAAAAAADwPyEzMzMzM4TCQBobCQAAAAAAAPA/EQAAAAAAAPA/ITMzMzMzhMJAGhsJAAAAAAAA8D8RAAAAAAAA8D8hMzMzMzOEwkAgAUDU5AURXGj8GdCibr8ZH34WTrR56z8pAAAAQK0pOcAxAAAAAJLrsb85AAAAQM6BIkBCogIaGwkAAABArSk5wBGamZlpnrg1wCEmKeucnR4xQBobCZqZmWmeuDXAETMzM5OPRzLAISsp65ydHjFAGhsJMzMzk49HMsARmpmZeQGtLcAhJinrnJ0eMUAaGwmamZl5Aa0twBHNzMzM48omwCEoKeucnR4xQBobCc3MzMzjyibAEQAAAECM0R/AISgp65ydHjFAGhsJAAAAQIzRH8ARaGZm5lANEsAhcOC7JbIDR0AaGwloZmbmUA0SwBEwMzMzViTxvyGdR1iGAQipQBobCTAzMzNWJPG/EZiZmZlL9gJAIaRWHkVPH/ZAGhsJmJmZmUv2AkARZGZmJmE/F0AhU0sTf97HiEAaGwlkZmYmYT8XQBEAAABAzoEiQCFKfPxXUTdPQEKkAhobCQAAAECtKTnAEQAAACD8zum/ITMzMzMzhMJAGhsJAAAAIPzO6b8RAAAAgIaK4r8hMzMzMzOEwkAaGwkAAACAhorivxEAAADgE7TZvyEzMzMzM4TCQBobCQAAAOATtNm/EQAAAIBqrs6/ITMzMzMzhMJAGhsJAAAAgGquzr8RAAAAAJLrsb8hMzMzMzOEwkAaGwkAAAAAkuuxvxEAAAAA/Va6PyEzMzMzM4TCQBobCQAAAAD9Vro/EQAAAKCQzdI/ITMzMzMzhMJAGhsJAAAAoJDN0j8RAAAAwPea4D8hMzMzMzOEwkAaGwkAAADA95rgPxEAAADgCu3sPyEzMzMzM4TCQBobCQAAAOAK7ew/EQAAAEDOgSJAITMzMzMzhMJAIAFCBQoDVjE3GsAHEAEatAcKuAII1OQFGAEgAS0AAIA/MqQCGhsJAAAAAAAA8D8RAAAAAAAA8D8hMzMzMzOEwkAaGwkAAAAAAADwPxEAAAAAAADwPyEzMzMzM4TCQBobCQAAAAAAAPA/EQAAAAAAAPA/ITMzMzMzhMJAGhsJAAAAAAAA8D8RAAAAAAAA8D8hMzMzMzOEwkAaGwkAAAAAAADwPxEAAAAAAADwPyEzMzMzM4TCQBobCQAAAAAAAPA/EQAAAAAAAPA/ITMzMzMzhMJAGhsJAAAAAAAA8D8RAAAAAAAA8D8hMzMzMzOEwkAaGwkAAAAAAADwPxEAAAAAAADwPyEzMzMzM4TCQBobCQAAAAAAAPA/EQAAAAAAAPA/ITMzMzMzhMJAGhsJAAAAAAAA8D8RAAAAAAAA8D8hMzMzMzOEwkAgAUDU5AURMNpxtxt6UT8ZsqOpuc7h6j8pAAAAQFNXIsAxAAAAgKu4cb85AAAAwH7ZEkBCogIaGwkAAABAU1ciwBHNzMwsCSEfwCEqqMKisrQ2QBobCc3MzCwJIR/AEZqZmdlrkxnAISqowqKytDZAGhsJmpmZ2WuTGcARZmZmhs4FFMAhL6jCorK0NkAaGwlmZmaGzgUUwBFmZmZmYvAMwCEqqMKisrQ2QBobCWZmZmZi8AzAEQAAAMAn1QHAIZAYd0Wh1IVAGhsJAAAAwCfVAcARYGZmZrTn6r8hWJ77SsD1xkAaGwlgZmZmtOfqvxEwMzMzNoXhPyG79EpaXWntQBobCTAzMzM2heE/EWhmZmYQ+f4/IUTnYYGpGtRAGhsJaGZmZhD5/j8RnJmZ2cKXCkAhh12mVtJzlUAaGwmcmZnZwpcKQBEAAADAftkSQCEz1X5RwiRQQEKkAhobCQAAAEBTVyLAEQAAAGAhQ++/ITMzMzMzhMJAGhsJAAAAYCFD778RAAAAgGPv478hMzMzMzOEwkAaGwkAAACAY+/jvxEAAABgh53YvyEzMzMzM4TCQBobCQAAAGCHndi/EQAAACBHq8e/ITMzMzMzhMJAGhsJAAAAIEerx78RAAAAgKu4cb8hMzMzMzOEwkAaGwkAAACAq7hxvxEAAADACTXHPyEzMzMzM4TCQBobCQAAAMAJNcc/EQAAAIBmoNg/ITMzMzMzhMJAGhsJAAAAgGag2D8RAAAAoDdg5D8hMzMzMzOEwkAaGwkAAACgN2DkPxEAAADgH1vwPyEzMzMzM4TCQBobCQAAAOAfW/A/EQAAAMB+2RJAITMzMzMzhMJAIAFCBQoDVjE4GsAHEAEatAcKuAII1OQFGAEgAS0AAIA/MqQCGhsJAAAAAAAA8D8RAAAAAAAA8D8hMzMzMzOEwkAaGwkAAAAAAADwPxEAAAAAAADwPyEzMzMzM4TCQBobCQAAAAAAAPA/EQAAAAAAAPA/ITMzMzMzhMJAGhsJAAAAAAAA8D8RAAAAAAAA8D8hMzMzMzOEwkAaGwkAAAAAAADwPxEAAAAAAADwPyEzMzMzM4TCQBobCQAAAAAAAPA/EQAAAAAAAPA/ITMzMzMzhMJAGhsJAAAAAAAA8D8RAAAAAAAA8D8hMzMzMzOEwkAaGwkAAAAAAADwPxEAAAAAAADwPyEzMzMzM4TCQBobCQAAAAAAAPA/EQAAAAAAAPA/ITMzMzMzhMJAGhsJAAAAAAAA8D8RAAAAAAAA8D8hMzMzMzOEwkAgAUDU5AURQGdBKNnkJL8Z2cGLL5L/6T8pAAAAANHAG8AxAAAAoDfiZD85AAAAINhJFkBCogIaGwkAAAAA0cAbwBFmZmYWwL8WwCEKJidtZ709QBobCWZmZhbAvxbAEc3MzCyvvhHAIQQmJ21nvT1AGhsJzczMLK++EcARZ2Zmhjx7CcAhByYnbWe9PUAaGwlnZmaGPHsJwBFoZmZmNfL+vyEgsjIWFPiSQBobCWhmZmY18v6/EQAAAIDj2+W/Icu8BrYxmMxAGhsJAAAAgOPb5b8RyMzMzKMs4j8hvEMdgmfo7EAaGwnIzMzMoyziPxHIzMyMlRr9PyEEQCmQr4rRQBobCcjMzIyVGv0/EZiZmZlsjwhAIeNh+nTi8JZAGhsJmJmZmWyPCEARZmZmNsdIEUAhmjWe6DY8ZUAaGwlmZmY2x0gRQBEAAAAg2EkWQCGSM94FWSVMQEKkAhobCQAAAADRwBvAEQAAAKBnbu+/ITMzMzMzhMJAGhsJAAAAoGdu778RAAAAAESV4r8hMzMzMzOEwkAaGwkAAAAARJXivxEAAADgmwDWvyEzMzMzM4TCQBobCQAAAOCbANa/EQAAAOCJusS/ITMzMzMzhMJAGhsJAAAA4Im6xL8RAAAAoDfiZD8hMzMzMzOEwkAaGwkAAACgN+JkPxEAAAAAeY7FPyEzMzMzM4TCQBobCQAAAAB5jsU/EQAAAABBUtY/ITMzMzMzhMJAGhsJAAAAAEFS1j8RAAAAQGzg4j8hMzMzMzOEwkAaGwkAAABAbODiPxEAAADgFEPuPyEzMzMzM4TCQBobCQAAAOAUQ+4/EQAAACDYSRZAITMzMzMzhMJAIAFCBQoDVjE5Gr8HEAEatAcKuAII1OQFGAEgAS0AAIA/MqQCGhsJAAAAAAAA8D8RAAAAAAAA8D8hMzMzMzOEwkAaGwkAAAAAAADwPxEAAAAAAADwPyEzMzMzM4TCQBobCQAAAAAAAPA/EQAAAAAAAPA/ITMzMzMzhMJAGhsJAAAAAAAA8D8RAAAAAAAA8D8hMzMzMzOEwkAaGwkAAAAAAADwPxEAAAAAAADwPyEzMzMzM4TCQBobCQAAAAAAAPA/EQAAAAAAAPA/ITMzMzMzhMJAGhsJAAAAAAAA8D8RAAAAAAAA8D8hMzMzMzOEwkAaGwkAAAAAAADwPxEAAAAAAADwPyEzMzMzM4TCQBobCQAAAAAAAPA/EQAAAAAAAPA/ITMzMzMzhMJAGhsJAAAAAAAA8D8RAAAAAAAA8D8hMzMzMzOEwkAgAUDU5AURwHVSHbbdOL8ZZzculbys+j8pAAAAgM4tUsAxAAAAABaGsD85AAAAIAIvMkBCogIaGwkAAACAzi1SwBFmZmb+GdBPwCGmVQppxHUuQBobCWZmZv4Z0E/AEc3MzPyWREvAIZ9VCmnEdS5AGhsJzczM/JZES8ARNDMz+xO5RsAhn1UKacR1LkAaGwk0MzP7E7lGwBGamZn5kC1CwCGmVQppxHUuQBobCZqZmfmQLULAEQAAAPAbRDvAIaZVCmnEdS5AGhsJAAAA8BtEO8ARzszM7BUtMsAhn1UKacR1LkAaGwnOzMzsFS0ywBE4MzPTHywiwCH8csL/KeRlQBobCTgzM9MfLCLAEQAAMzMzw24/IUogtaWlzeVAGhsJAAAzMzPDbj8RmJmZOfgvIkAhodDqMyJR6EAaGwmYmZk5+C8iQBEAAAAgAi8yQCHbhtFxpc9UQEKkAhobCQAAAIDOLVLAEQAAAIC8tfW/ITMzMzMzhMJAGhsJAAAAgLy19b8RAAAAwOY86b8hMzMzMzOEwkAaGwkAAADA5jzpvxEAAADgP/vbvyEzMzMzM4TCQBobCQAAAOA/+9u/EQAAACB3zsO/ITMzMzMzhMJAGhsJAAAAIHfOw78RAAAAABaGsD8hMzMzMzOEwkAaGwkAAAAAFoawPxEAAACgyR/TPyEzMzMzM4TCQBobCQAAAKDJH9M/EQAAAIBXKeQ/ITMzMzMzhMJAGhsJAAAAgFcp5D8RAAAAALZ37j8hMzMzMzOEwkAaGwkAAAAAtnfuPxEAAADA6R/1PyEzMzMzM4TCQBobCQAAAMDpH/U/EQAAACACLzJAITMzMzMzhMJAIAFCBAoCVjIawAcQARq0Bwq4AgjU5AUYASABLQAAgD8ypAIaGwkAAAAAAADwPxEAAAAAAADwPyEzMzMzM4TCQBobCQAAAAAAAPA/EQAAAAAAAPA/ITMzMzMzhMJAGhsJAAAAAAAA8D8RAAAAAAAA8D8hMzMzMzOEwkAaGwkAAAAAAADwPxEAAAAAAADwPyEzMzMzM4TCQBobCQAAAAAAAPA/EQAAAAAAAPA/ITMzMzMzhMJAGhsJAAAAAAAA8D8RAAAAAAAA8D8hMzMzMzOEwkAaGwkAAAAAAADwPxEAAAAAAADwPyEzMzMzM4TCQBobCQAAAAAAAPA/EQAAAAAAAPA/ITMzMzMzhMJAGhsJAAAAAAAA8D8RAAAAAAAA8D8hMzMzMzOEwkAaGwkAAAAAAADwPxEAAAAAAADwPyEzMzMzM4TCQCABQNTkBRHKnVbeuGhdPxkzB/IeCiHpPykAAABAtT9LwDEAAADgkkGwvzkAAADAAA9DQEKiAhobCQAAAEC1P0vAEWZmZqY8nkbAIdrzl6+CSTJAGhsJZmZmpjyeRsARzczMDMT8QcAh1/OXr4JJMkAaGwnNzMwMxPxBwBFnZmbmlrY6wCHY85evgkkyQBobCWdmZuaWtjrAETQzM7OlczHAIdjzl6+CSTJAGhsJNDMzs6VzMcARAAAAAGlhIMAh2vOXr4JJMkAaGwkAAAAAaWEgwBEgMzMzyyPxPyFWyLf2jUX2QBobCSAzMzPLI/E/EcjMzMxbqiRAIdapXhIBm6pAGhsJyMzMzFuqJEARmJmZGR+YM0Ahf/+5TH9lO0AaGwmYmZkZH5gzQBHMzMxMENs8QCF//7lMf2U7QBobCczMzEwQ2zxAEQAAAMAAD0NAIX//uUx/ZTtAQqQCGhsJAAAAQLU/S8ARAAAAAL712L8hMzMzMzOEwkAaGwkAAAAAvvXYvxEAAAAgGRPQvyEzMzMzM4TCQBobCQAAACAZE9C/EQAAAMAk4sa/ITMzMzMzhMJAGhsJAAAAwCTixr8RAAAAQA0Hv78hMzMzMzOEwkAaGwkAAABADQe/vxEAAADgkkGwvyEzMzMzM4TCQBobCQAAAOCSQbC/EQAAAEBCXG0/ITMzMzMzhMJAGhsJAAAAQEJcbT8RAAAAIBRMtT8hMzMzMzOEwkAaGwkAAAAgFEy1PxEAAAAgz+jIPyEzMzMzM4TCQBobCQAAACDP6Mg/EQAAAMByUdw/ITMzMzMzhMJAGhsJAAAAwHJR3D8RAAAAwAAPQ0AhMzMzMzOEwkAgAUIFCgNWMjAawAcQARq0Bwq4AgjU5AUYASABLQAAgD8ypAIaGwkAAAAAAADwPxEAAAAAAADwPyEzMzMzM4TCQBobCQAAAAAAAPA/EQAAAAAAAPA/ITMzMzMzhMJAGhsJAAAAAAAA8D8RAAAAAAAA8D8hMzMzMzOEwkAaGwkAAAAAAADwPxEAAAAAAADwPyEzMzMzM4TCQBobCQAAAAAAAPA/EQAAAAAAAPA/ITMzMzMzhMJAGhsJAAAAAAAA8D8RAAAAAAAA8D8hMzMzMzOEwkAaGwkAAAAAAADwPxEAAAAAAADwPyEzMzMzM4TCQBobCQAAAAAAAPA/EQAAAAAAAPA/ITMzMzMzhMJAGhsJAAAAAAAA8D8RAAAAAAAA8D8hMzMzMzOEwkAaGwkAAAAAAADwPxEAAAAAAADwPyEzMzMzM4TCQCABQNTkBRG38k8A8fVQvxmKP05959bnPykAAAAASmpBwDEAAACAwvqdvzkAAABgaZ02QEKiAhobCQAAAABKakHAEZqZman6FT3AIQjZjdE2sDJAGhsJmpmZqfoVPcARMzMzU2FXN8AhC9mN0TawMkAaGwkzMzNTYVc3wBHMzMz8x5gxwCEL2Y3RNrAyQBobCczMzPzHmDHAEczMzExdtCfAIQjZjdE2sDJAGhsJzMzMTF20J8ARAAAAQFVuGMAhCNmN0TawMkAaGwkAAABAVW4YwBEAZmZm/j7XvyEa0sAGA8jCQBobCQBmZmb+Pte/ETgzM3N1hhVAIdRzUccFufRAGhsJODMzc3WGFUARaGZmZm1AJkAhwpF09nl+YUAaGwloZmZmbUAmQBGamZkJ0N4wQCH3Lu3mJo5CQBobCZqZmQnQ3jBAEQAAAGBpnTZAIfcu7eYmjkJAQqQCGhsJAAAAAEpqQcARAAAAYCuA178hMzMzMzOEwkAaGwkAAABgK4DXvxEAAACg3hHRvyEzMzMzM4TCQBobCQAAAKDeEdG/EQAAAGCHGsi/ITMzMzMzhMJAGhsJAAAAYIcayL8RAAAAgGRru78hMzMzMzOEwkAaGwkAAACAZGu7vxEAAACAwvqdvyEzMzMzM4TCQBobCQAAAIDC+p2/EQAAAGDDrak/ITMzMzMzhMJAGhsJAAAAYMOtqT8RAAAAwDy2wT8hMzMzMzOEwkAaGwkAAADAPLbBPxEAAACgczXOPyEzMzMzM4TCQBobCQAAAKBzNc4/EQAAAKB7I9g/ITMzMzMzhMJAGhsJAAAAoHsj2D8RAAAAYGmdNkAhMzMzMzOEwkAgAUIFCgNWMjEawAcQARq0Bwq4AgjU5AUYASABLQAAgD8ypAIaGwkAAAAAAADwPxEAAAAAAADwPyEzMzMzM4TCQBobCQAAAAAAAPA/EQAAAAAAAPA/ITMzMzMzhMJAGhsJAAAAAAAA8D8RAAAAAAAA8D8hMzMzMzOEwkAaGwkAAAAAAADwPxEAAAAAAADwPyEzMzMzM4TCQBobCQAAAAAAAPA/EQAAAAAAAPA/ITMzMzMzhMJAGhsJAAAAAAAA8D8RAAAAAAAA8D8hMzMzMzOEwkAaGwkAAAAAAADwPxEAAAAAAADwPyEzMzMzM4TCQBobCQAAAAAAAPA/EQAAAAAAAPA/ITMzMzMzhMJAGhsJAAAAAAAA8D8RAAAAAAAA8D8hMzMzMzOEwkAaGwkAAAAAAADwPxEAAAAAAADwPyEzMzMzM4TCQCABQNTkBRG69XXqsFZjPxnwtmjQREjnPykAAABgtP8iwDEAAABAuMyEPzkAAAAAlQElQEKiAhobCQAAAGC0/yLAEQAAAOAm/x3AIdWxc6L0vj1AGhsJAAAA4Cb/HcARAAAAAOX+FcAh1bFzovS+PUAaGwkAAAAA5f4VwBEAAABARv0LwCHVsXOi9L49QBobCQAAAEBG/QvAEQAAAACF+fe/IYLBblXnXJVAGhsJAAAAAIX5978RAAAAAAUP4D8hZnoCh/W48EAaGwkAAAAABQ/gPxEAAAAARQQEQCGjY7GMRS7YQBobCQAAAABFBARAEQAAAGBkAhJAIRzn73OqxjZAGhsJAAAAYGQCEkARAAAAQKYCGkAhHOfvc6rGNkAaGwkAAABApgIaQBEAAAAQdAEhQCEc5+9zqsY2QBobCQAAABB0ASFAEQAAAACVASVAIRzn73OqxjZAQqQCGhsJAAAAYLT/IsARAAAAgB22678hMzMzMzOEwkAaGwkAAACAHbbrvxEAAACgc3zkvyEzMzMzM4TCQBobCQAAAKBzfOS/EQAAAKCPy9u/ITMzMzMzhMJAGhsJAAAAoI/L278RAAAAQNxdyb8hMzMzMzOEwkAaGwkAAABA3F3JvxEAAABAuMyEPyEzMzMzM4TCQBobCQAAAEC4zIQ/EQAAAIDm/Mk/ITMzMzMzhMJAGhsJAAAAgOb8yT8RAAAA4LuF2j8hMzMzMzOEwkAaGwkAAADgu4XaPxEAAACAJ9/kPyEzMzMzM4TCQBobCQAAAIAn3+Q/EQAAAOCdUu0/ITMzMzMzhMJAGhsJAAAA4J1S7T8RAAAAAJUBJUAhMzMzMzOEwkAgAUIFCgNWMjIawAcQARq0Bwq4AgjU5AUYASABLQAAgD8ypAIaGwkAAAAAAADwPxEAAAAAAADwPyEzMzMzM4TCQBobCQAAAAAAAPA/EQAAAAAAAPA/ITMzMzMzhMJAGhsJAAAAAAAA8D8RAAAAAAAA8D8hMzMzMzOEwkAaGwkAAAAAAADwPxEAAAAAAADwPyEzMzMzM4TCQBobCQAAAAAAAPA/EQAAAAAAAPA/ITMzMzMzhMJAGhsJAAAAAAAA8D8RAAAAAAAA8D8hMzMzMzOEwkAaGwkAAAAAAADwPxEAAAAAAADwPyEzMzMzM4TCQBobCQAAAAAAAPA/EQAAAAAAAPA/ITMzMzMzhMJAGhsJAAAAAAAA8D8RAAAAAAAA8D8hMzMzMzOEwkAaGwkAAAAAAADwPxEAAAAAAADwPyEzMzMzM4TCQCABQNTkBRFSMJP/adFYPxndjeOSyonkPykAAACAP1VCwDEAAADARAeHvzkAAAAARoc2QEKiAhobCQAAAIA/VULAEQAAAIAevz7AIS06oQsm5TFAGhsJAAAAgB6/PsARAAAAAL7TOMAhLTqhCyblMUAaGwkAAAAAvtM4wBEAAACAXegywCEtOqELJuUxQBobCQAAAIBd6DLAEQAAAAD6+SnAIS06oQsm5TFAGhsJAAAAAPr5KcARAAAAAHJGHMAhLTqhCyblMUAaGwkAAAAAckYcwBEAAAAAwGPyvyGT8RwpUOSLQBobCQAAAADAY/K/EQAAAACSFBNAIcLBRdL24fZAGhsJAAAAAJIUE0ARAAAAAAphJUAhqdZfFwiFP0AaGwkAAAAACmElQBEAAACA5ZswQCGp1l8XCIU/QBobCQAAAIDlmzBAEQAAAABGhzZAIanWXxcIhT9AQqQCGhsJAAAAgD9VQsARAAAA4EUR1b8hMzMzMzOEwkAaGwkAAADgRRHVvxEAAACgby7KvyEzMzMzM4TCQBobCQAAAKBvLsq/EQAAACCoLsC/ITMzMzMzhMJAGhsJAAAAIKguwL8RAAAAYIiQsL8hMzMzMzOEwkAaGwkAAABgiJCwvxEAAADARAeHvyEzMzMzM4TCQBobCQAAAMBEB4e/EQAAAOBiTKc/ITMzMzMzhMJAGhsJAAAA4GJMpz8RAAAAgHj6uz8hMzMzMzOEwkAaGwkAAACAePq7PxEAAAAASt7IPyEzMzMzM4TCQBobCQAAAABK3sg/EQAAACCjxtU/ITMzMzMzhMJAGhsJAAAAIKPG1T8RAAAAAEaHNkAhMzMzMzOEwkAgAUIFCgNWMjMawAcQARq0Bwq4AgjU5AUYASABLQAAgD8ypAIaGwkAAAAAAADwPxEAAAAAAADwPyEzMzMzM4TCQBobCQAAAAAAAPA/EQAAAAAAAPA/ITMzMzMzhMJAGhsJAAAAAAAA8D8RAAAAAAAA8D8hMzMzMzOEwkAaGwkAAAAAAADwPxEAAAAAAADwPyEzMzMzM4TCQBobCQAAAAAAAPA/EQAAAAAAAPA/ITMzMzMzhMJAGhsJAAAAAAAA8D8RAAAAAAAA8D8hMzMzMzOEwkAaGwkAAAAAAADwPxEAAAAAAADwPyEzMzMzM4TCQBobCQAAAAAAAPA/EQAAAAAAAPA/ITMzMzMzhMJAGhsJAAAAAAAA8D8RAAAAAAAA8D8hMzMzMzOEwkAaGwkAAAAAAADwPxEAAAAAAADwPyEzMzMzM4TCQCABQNTkBREY3snqZvk+PxlPaLcGeGPjPykAAABgSpkGwDEAAACALaKlPzkAAAAAlFYSQEKiAhobCQAAAGBKmQbAEZqZmYnYqwDAIewFYr6fp1RAGhsJmpmZidirAMARZmZmZs189b8hquTFYmLPp0AaGwlmZmZmzXz1vxEwMzNz00PjvyGHzaNJqgzFQBobCTAzM3PTQ+O/EaCZmZnPx8E/IcliATnQWORAGhsJoJmZmc/HwT8RAAAAQLsn7D8h9xsgFE/s4EAaGwkAAABAuyfsPxHQzMxMwe75PyH9FoWA2IKxQBobCdDMzEzB7vk/Ec7MzHzS5AJAIZBmt7I0IjVAGhsJzszMfNLkAkARNDMzU0TSCEAhkGa3sjQiNUAaGwk0MzNTRNIIQBGamZkptr8OQCGQZreyNCI1QBobCZqZmSm2vw5AEQAAAACUVhJAIZBmt7I0IjVAQqQCGhsJAAAAYEqZBsARAAAAwEzl678hMzMzMzOEwkAaGwkAAADATOXrvxEAAACg4G3cvyEzMzMzM4TCQBobCQAAAKDgbdy/EQAAAEAax9C/ITMzMzMzhMJAGhsJAAAAQBrH0L8RAAAAIIH5pr8hMzMzMzOEwkAaGwkAAAAggfmmvxEAAACALaKlPyEzMzMzM4TCQBobCQAAAIAtoqU/EQAAAGBgpMU/ITMzMzMzhMJAGhsJAAAAYGCkxT8RAAAAoOj91z8hMzMzMzOEwkAaGwkAAACg6P3XPxEAAAAAwgzhPyEzMzMzM4TCQBobCQAAAADCDOE/EQAAAKC1j+Y/ITMzMzMzhMJAGhsJAAAAoLWP5j8RAAAAAJRWEkAhMzMzMzOEwkAgAUIFCgNWMjQawAcQARq0Bwq4AgjU5AUYASABLQAAgD8ypAIaGwkAAAAAAADwPxEAAAAAAADwPyEzMzMzM4TCQBobCQAAAAAAAPA/EQAAAAAAAPA/ITMzMzMzhMJAGhsJAAAAAAAA8D8RAAAAAAAA8D8hMzMzMzOEwkAaGwkAAAAAAADwPxEAAAAAAADwPyEzMzMzM4TCQBobCQAAAAAAAPA/EQAAAAAAAPA/ITMzMzMzhMJAGhsJAAAAAAAA8D8RAAAAAAAA8D8hMzMzMzOEwkAaGwkAAAAAAADwPxEAAAAAAADwPyEzMzMzM4TCQBobCQAAAAAAAPA/EQAAAAAAAPA/ITMzMzMzhMJAGhsJAAAAAAAA8D8RAAAAAAAA8D8hMzMzMzOEwkAaGwkAAAAAAADwPxEAAAAAAADwPyEzMzMzM4TCQCABQNTkBRF0z7uVMWVAPxkpgBgJMLzgPykAAACAo/sdwDEAAAAAfhCQPzkAAACA8WgXQEKiAhobCQAAAICj+x3AEc3MzMzHpBjAIUaXTh3P7jhAGhsJzczMzMekGMARmpmZGexNE8AhRpdOHc/uOEAaGwmamZkZ7E0TwBHMzMzMIO4LwCFLl04dz+44QBobCczMzMwg7gvAEWZmZmZpQAHAIaD/GFe5CF5AGhsJZmZmZmlAAcARAAAAAMhK6r8hbh3ZebrdsUAaGwkAAAAAyErqvxGgmZmZFWzgPyGYNa64wLjyQBobCaCZmZkVbOA/EZiZmZl5kf0/IRY0ICFl4MlAGhsJmJmZmXmR/T8RNDMzM3R2CUAhuN44/QyJQ0AaGwk0MzMzdHYJQBHOzMzMFRISQCGqsC8qJrc/QBobCc7MzMwVEhJAEQAAAIDxaBdAIZ6wLyomtz9AQqQCGhsJAAAAgKP7HcARAAAAwB5j478hMzMzMzOEwkAaGwkAAADAHmPjvxEAAAAgWP7YvyEzMzMzM4TCQBobCQAAACBY/ti/EQAAAKCEh9C/ITMzMzMzhMJAGhsJAAAAoISH0L8RAAAAABh0wL8hMzMzMzOEwkAaGwkAAAAAGHTAvxEAAAAAfhCQPyEzMzMzM4TCQBobCQAAAAB+EJA/EQAAAOAUPMQ/ITMzMzMzhMJAGhsJAAAA4BQ8xD8RAAAA4DAm0j8hMzMzMzOEwkAaGwkAAADgMCbSPxEAAAAAEbTaPyEzMzMzM4TCQBobCQAAAAARtNo/EQAAACBsP+M/ITMzMzMzhMJAGhsJAAAAIGw/4z8RAAAAgPFoF0AhMzMzMzOEwkAgAUIFCgNWMjUawAcQARq0Bwq4AgjU5AUYASABLQAAgD8ypAIaGwkAAAAAAADwPxEAAAAAAADwPyEzMzMzM4TCQBobCQAAAAAAAPA/EQAAAAAAAPA/ITMzMzMzhMJAGhsJAAAAAAAA8D8RAAAAAAAA8D8hMzMzMzOEwkAaGwkAAAAAAADwPxEAAAAAAADwPyEzMzMzM4TCQBobCQAAAAAAAPA/EQAAAAAAAPA/ITMzMzMzhMJAGhsJAAAAAAAA8D8RAAAAAAAA8D8hMzMzMzOEwkAaGwkAAAAAAADwPxEAAAAAAADwPyEzMzMzM4TCQBobCQAAAAAAAPA/EQAAAAAAAPA/ITMzMzMzhMJAGhsJAAAAAAAA8D8RAAAAAAAA8D8hMzMzMzOEwkAaGwkAAAAAAADwPxEAAAAAAADwPyEzMzMzM4TCQCABQNTkBRFOz/zijfVTPxkj+SRgFdzePykAAACgHtYEwDEAAACA+UWqvzkAAAAgOVMLQEKiAhobCQAAAKAe1gTAETMzM3MvBQDAIXdLFTr4RkVAGhsJMzMzcy8FAMARzczMjIBo9r8hdUsVOvhGRUAaGwnNzMyMgGj2vxFoZmZmRI3pvyGOjtWa18elQBobCWhmZmZEjem/EdDMzMweJsm/IXWO51hpm99AGhsJ0MzMzB4myb8RAAAAAGr02T8hfSUTtMqX5EAaGwkAAAAAavTZPxGYmZnZ+B7wPyHmBWwrRvLLQBobCZiZmdn4HvA/ETQzMzPXwPk/IRlAdtByOqZAGhsJNDMzM9fA+T8RZmZmxlqxAUAh2o7WyyYFYUAaGwlmZmbGWrEBQBEyMzPzSYIGQCFgW83e5CJKQBobCTIzM/NJggZAEQAAACA5UwtAIUtlASNHZEhAQqQCGhsJAAAAoB7WBMARAAAAIAyK4b8hMzMzMzOEwkAaGwkAAAAgDIrhvxEAAABgH+fYvyEzMzMzM4TCQBobCQAAAGAf59i/EQAAACAtetG/ITMzMzMzhMJAGhsJAAAAIC160b8RAAAAgCP0xL8hMzMzMzOEwkAaGwkAAACAI/TEvxEAAACA+UWqvyEzMzMzM4TCQBobCQAAAID5Raq/EQAAACDGObY/ITMzMzMzhMJAGhsJAAAAIMY5tj8RAAAA4HOKxj8hMzMzMzOEwkAaGwkAAADgc4rGPxEAAABAIjPXPyEzMzMzM4TCQBobCQAAAEAiM9c/EQAAAIDgGeY/ITMzMzMzhMJAGhsJAAAAgOAZ5j8RAAAAIDlTC0AhMzMzMzOEwkAgAUIFCgNWMjYawAcQARq0Bwq4AgjU5AUYASABLQAAgD8ypAIaGwkAAAAAAADwPxEAAAAAAADwPyEzMzMzM4TCQBobCQAAAAAAAPA/EQAAAAAAAPA/ITMzMzMzhMJAGhsJAAAAAAAA8D8RAAAAAAAA8D8hMzMzMzOEwkAaGwkAAAAAAADwPxEAAAAAAADwPyEzMzMzM4TCQBobCQAAAAAAAPA/EQAAAAAAAPA/ITMzMzMzhMJAGhsJAAAAAAAA8D8RAAAAAAAA8D8hMzMzMzOEwkAaGwkAAAAAAADwPxEAAAAAAADwPyEzMzMzM4TCQBobCQAAAAAAAPA/EQAAAAAAAPA/ITMzMzMzhMJAGhsJAAAAAAAA8D8RAAAAAAAA8D8hMzMzMzOEwkAaGwkAAAAAAADwPxEAAAAAAADwPyEzMzMzM4TCQCABQNTkBRFceP9R+IYhvxm/GiE1gaTaPykAAABgXcojwDEAAAAgaJ9WPzkAAAAAuZw/QEKiAhobCQAAAGBdyiPAETMzMxNe+hbAIcjq7KrTo1BAGhsJMzMzE176FsARmJmZmQWA+b8h6AFGihEjgEAaGwmYmZmZBYD5vxHQzMyMtnQEQCFJ80EE5/r2QBobCdDMzIy2dARAETQzM/O31BpAIb8BGWijCCtAGhsJNDMz87fUGkARAAAAUIq3JUAhvwEZaKMIK0AaGwkAAABQirclQBFoZmamuAQuQCHFARloowgrQBobCWhmZqa4BC5AEWdmZn7zKDNAIb8BGWijCCtAGhsJZ2ZmfvMoM0ARmpmZqYpPN0AhvwEZaKMIK0AaGwmamZmpik83QBHOzMzUIXY7QCHFARloowgrQBobCc7MzNQhdjtAEQAAAAC5nD9AIbgBGWijCCtAQqQCGhsJAAAAYF3KI8ARAAAAYNUKy78hMzMzMzOEwkAaGwkAAABg1QrLvxEAAACANmm3vyEzMzMzM4TCQBobCQAAAIA2abe/EQAAAIBp7Ku/ITMzMzMzhMJAGhsJAAAAgGnsq78RAAAAgLI/mb8hMzMzMzOEwkAaGwkAAACAsj+ZvxEAAAAgaJ9WPyEzMzMzM4TCQBobCQAAACBon1Y/EQAAAMBoy50/ITMzMzMzhMJAGhsJAAAAwGjLnT8RAAAAwN8dsD8hMzMzMzOEwkAaGwkAAADA3x2wPxEAAAAg8UbBPyEzMzMzM4TCQBobCQAAACDxRsE/EQAAAGDq6NA/ITMzMzMzhMJAGhsJAAAAYOro0D8RAAAAALmcP0AhMzMzMzOEwkAgAUIFCgNWMjcawAcQARq0Bwq4AgjU5AUYASABLQAAgD8ypAIaGwkAAAAAAADwPxEAAAAAAADwPyEzMzMzM4TCQBobCQAAAAAAAPA/EQAAAAAAAPA/ITMzMzMzhMJAGhsJAAAAAAAA8D8RAAAAAAAA8D8hMzMzMzOEwkAaGwkAAAAAAADwPxEAAAAAAADwPyEzMzMzM4TCQBobCQAAAAAAAPA/EQAAAAAAAPA/ITMzMzMzhMJAGhsJAAAAAAAA8D8RAAAAAAAA8D8hMzMzMzOEwkAaGwkAAAAAAADwPxEAAAAAAADwPyEzMzMzM4TCQBobCQAAAAAAAPA/EQAAAAAAAPA/ITMzMzMzhMJAGhsJAAAAAAAA8D8RAAAAAAAA8D8hMzMzMzOEwkAaGwkAAAAAAADwPxEAAAAAAADwPyEzMzMzM4TCQCABQNTkBRHp39H2wpZCvxmw1cO4W5nVPykAAAAANNwuwDEAAAAA1+uFPzkAAAAAhexAQEKiAhobCQAAAAA03C7AEc3MzMwsASXAIdud6UVCVkJAGhsJzczMzCwBJcARNDMzM0tMFsAh253pRUJWQkAaGwk0MzMzS0wWwBFwZmZm5rHkvyElyE/cytSXQBobCXBmZmbmseS/EZiZmZnRHxFAIYQL0uTdu/ZAGhsJmJmZmdEfEUARAAAAAPBqIkAhLGo6kfsxLUAaGwkAAAAA8GoiQBEyMzMz90UsQCEmajqR+zEtQBobCTIzMzP3RSxAETIzMzN/EDNAISZqOpH7MS1AGhsJMjMzM38QM0ARzMzMzAL+N0AhLGo6kfsxLUAaGwnMzMzMAv43QBFmZmZmhus8QCEsajqR+zEtQBobCWZmZmaG6zxAEQAAAACF7EBAISxqOpH7MS1AQqQCGhsJAAAAADTcLsARAAAA4EMJxL8hMzMzMzOEwkAaGwkAAADgQwnEvxEAAADAVvCwvyEzMzMzM4TCQBobCQAAAMBW8LC/EQAAAIBB1KS/ITMzMzMzhMJAGhsJAAAAgEHUpL8RAAAAYPPxib8hMzMzMzOEwkAaGwkAAABg8/GJvxEAAAAA1+uFPyEzMzMzM4TCQBobCQAAAADX64U/EQAAAKDDBps/ITMzMzMzhMJAGhsJAAAAoMMGmz8RAAAAIDP+qj8hMzMzMzOEwkAaGwkAAAAgM/6qPxEAAACAluO5PyEzMzMzM4TCQBobCQAAAICW47k/EQAAAGB5+sY/ITMzMzMzhMJAGhsJAAAAYHn6xj8RAAAAAIXsQEAhMzMzMzOEwkAgAUIFCgNWMjgavwcQARq0Bwq4AgjU5AUYASABLQAAgD8ypAIaGwkAAAAAAADwPxEAAAAAAADwPyEzMzMzM4TCQBobCQAAAAAAAPA/EQAAAAAAAPA/ITMzMzMzhMJAGhsJAAAAAAAA8D8RAAAAAAAA8D8hMzMzMzOEwkAaGwkAAAAAAADwPxEAAAAAAADwPyEzMzMzM4TCQBobCQAAAAAAAPA/EQAAAAAAAPA/ITMzMzMzhMJAGhsJAAAAAAAA8D8RAAAAAAAA8D8hMzMzMzOEwkAaGwkAAAAAAADwPxEAAAAAAADwPyEzMzMzM4TCQBobCQAAAAAAAPA/EQAAAAAAAPA/ITMzMzMzhMJAGhsJAAAAAAAA8D8RAAAAAAAA8D8hMzMzMzOEwkAaGwkAAAAAAADwPxEAAAAAAADwPyEzMzMzM4TCQCABQNTkBRGUPX7NVuVjPxn9btkbCYP4PykAAADgrClIwDEAAACAU7zHPzkAAAAAiecQQEKiAhobCQAAAOCsKUjAEZqZmXkDiUXAIcsovfX02ClAGhsJmpmZeQOJRcARMzMzE1roQsAh1Si99fTYKUAaGwkzMzMTWuhCwBHNzMyssEdAwCHLKL319NgpQBobCc3MzKywR0DAEc3MzIwOTjvAIdAovfX02ClAGhsJzczMjA5OO8ARAAAAwLsMNsAh0Ci99fTYKUAaGwkAAADAuww2wBE0MzPzaMswwCHLKL319NgpQBobCTQzM/NoyzDAEczMzEwsFCfAIdUovfX02ClAGhsJzMzMTCwUJ8ARaGZmZg0jGcAh0ksTMLOJaUAaGwloZmZmDSMZwBHgzMzMCHfwvyHWKcy/q6LUQBobCeDMzMwId/C/EQAAAACJ5xBAIYQq38Ao6vFAQqQCGhsJAAAA4KwpSMARAAAAgB3L/L8hMzMzMzOEwkAaGwkAAACAHcv8vxEAAACgp77yvyEzMzMzM4TCQBobCQAAAKCnvvK/EQAAAGBSf+O/ITMzMzMzhMJAGhsJAAAAYFJ/478RAAAAgMpQyL8hMzMzMzOEwkAaGwkAAACAylDIvxEAAACAU7zHPyEzMzMzM4TCQBobCQAAAIBTvMc/EQAAAMAKG+A/ITMzMzMzhMJAGhsJAAAAwAob4D8RAAAAwGEc6z8hMzMzMzOEwkAaGwkAAADAYRzrPxEAAABAj4HzPyEzMzMzM4TCQBobCQAAAECPgfM/EQAAACDqyvo/ITMzMzMzhMJAGhsJAAAAIOrK+j8RAAAAAInnEEAhMzMzMzOEwkAgAUIECgJWMxq/BxABGrQHCrgCCNTkBRgBIAEtAACAPzKkAhobCQAAAAAAAPA/EQAAAAAAAPA/ITMzMzMzhMJAGhsJAAAAAAAA8D8RAAAAAAAA8D8hMzMzMzOEwkAaGwkAAAAAAADwPxEAAAAAAADwPyEzMzMzM4TCQBobCQAAAAAAAPA/EQAAAAAAAPA/ITMzMzMzhMJAGhsJAAAAAAAA8D8RAAAAAAAA8D8hMzMzMzOEwkAaGwkAAAAAAADwPxEAAAAAAADwPyEzMzMzM4TCQBobCQAAAAAAAPA/EQAAAAAAAPA/ITMzMzMzhMJAGhsJAAAAAAAA8D8RAAAAAAAA8D8hMzMzMzOEwkAaGwkAAAAAAADwPxEAAAAAAADwPyEzMzMzM4TCQBobCQAAAAAAAPA/EQAAAAAAAPA/ITMzMzMzhMJAIAFA1OQFEXA4bDnAsGi/GSKeEn+Bm/Y/KQAAAIArFBbAMQAAACAiAJu/OQAAAIAW4DBAQqICGhsJAAAAgCsUFsARZmZm5tU9CsAhjiChjdyNhEAaGwlmZmbm1T0KwBGYmZmZqabwvyFo5sOAllvSQBobCZiZmZmppvC/EZyZmZlYLvM/IUTvzRoiwO1AGhsJnJmZmVgu8z8RaGZmZq2BC0AhKlSjskRKx0AaGwloZmZmrYELQBEAAABAF7YWQCFDW9MPgk6iQBobCQAAAEAXthZAEc7MzMxXqx9AIbGRcZs0mFFAGhsJzszMzFerH0ARzszMLExQJEAhvfyqS5UrNEAaGwnOzMwsTFAkQBE0MzNz7MooQCG5/KpLlSs0QBobCTQzM3PsyihAEZqZmbmMRS1AIbn8qkuVKzRAGhsJmpmZuYxFLUARAAAAgBbgMEAhufyqS5UrNEBCpAIaGwkAAACAKxQWwBEAAABghW/6vyEzMzMzM4TCQBobCQAAAGCFb/q/EQAAAICHEvG/ITMzMzMzhMJAGhsJAAAAgIcS8b8RAAAAoJJW5r8hMzMzMzOEwkAaGwkAAACgklbmvxEAAADAoGLZvyEzMzMzM4TCQBobCQAAAMCgYtm/EQAAACAiAJu/ITMzMzMzhMJAGhsJAAAAICIAm78RAAAAQJmm0T8hMzMzMzOEwkAaGwkAAABAmabRPxEAAAAAYaXhPyEzMzMzM4TCQBobCQAAAABhpeE/EQAAAKCQWu8/ITMzMzMzhMJAGhsJAAAAoJBa7z8RAAAAAK2e9z8hMzMzMzOEwkAaGwkAAAAArZ73PxEAAACAFuAwQCEzMzMzM4TCQCABQgQKAlY0Gr8HEAEatAcKuAII1OQFGAEgAS0AAIA/MqQCGhsJAAAAAAAA8D8RAAAAAAAA8D8hMzMzMzOEwkAaGwkAAAAAAADwPxEAAAAAAADwPyEzMzMzM4TCQBobCQAAAAAAAPA/EQAAAAAAAPA/ITMzMzMzhMJAGhsJAAAAAAAA8D8RAAAAAAAA8D8hMzMzMzOEwkAaGwkAAAAAAADwPxEAAAAAAADwPyEzMzMzM4TCQBobCQAAAAAAAPA/EQAAAAAAAPA/ITMzMzMzhMJAGhsJAAAAAAAA8D8RAAAAAAAA8D8hMzMzMzOEwkAaGwkAAAAAAADwPxEAAAAAAADwPyEzMzMzM4TCQBobCQAAAAAAAPA/EQAAAAAAAPA/ITMzMzMzhMJAGhsJAAAAAAAA8D8RAAAAAAAA8D8hMzMzMzOEwkAgAUDU5AURtGcBZya0bb8ZwAHsfLDq9j8pAAAAYJJvXMAxAAAAwC1Qq785AAAAAJ1mQUBCogIaGwkAAABgkm9cwBGamZlJ4rhYwCFFvBwU+BYrQBobCZqZmUniuFjAETMzMzMyAlXAIUy8HBT4FitAGhsJMzMzMzICVcARzczMHIJLUcAhRbwcFPgWK0AaGwnNzMwcgktRwBHNzMwMpClLwCFIvBwU+BYrQBobCc3MzAykKUvAEQAAAOBDvEPAIUi8HBT4FitAGhsJAAAA4EO8Q8ARaGZmZsedOMAhRbwcFPgWK0AaGwloZmZmx504wBGYmZkZDoYjwCFlHcVgzcorQBobCZiZmRkOhiPAETAzMzPlXhRAIUO6RhQYDvdAGhsJMDMzM+VeFEARaGZmpnnyM0Ahhg5YbcvQa0AaGwloZmamefIzQBEAAAAAnWZBQCH+Q3GeCGdKQEKkAhobCQAAAGCSb1zAEQAAACBS3fS/ITMzMzMzhMJAGhsJAAAAIFLd9L8RAAAA4DJ7678hMzMzMzOEwkAaGwkAAADgMnvrvxEAAABAA1PhvyEzMzMzM4TCQBobCQAAAEADU+G/EQAAAMBjbtK/ITMzMzMzhMJAGhsJAAAAwGNu0r8RAAAAwC1Qq78hMzMzMzOEwkAaGwkAAADALVCrvxEAAADg7f/HPyEzMzMzM4TCQBobCQAAAODt/8c/EQAAAAAHNd0/ITMzMzMzhMJAGhsJAAAAAAc13T8RAAAAQLOK6T8hMzMzMzOEwkAaGwkAAABAs4rpPxEAAAAgtnr2PyEzMzMzM4TCQBobCQAAACC2evY/EQAAAACdZkFAITMzMzMzhMJAIAFCBAoCVjUavwcQARq0Bwq4AgjU5AUYASABLQAAgD8ypAIaGwkAAAAAAADwPxEAAAAAAADwPyEzMzMzM4TCQBobCQAAAAAAAPA/EQAAAAAAAPA/ITMzMzMzhMJAGhsJAAAAAAAA8D8RAAAAAAAA8D8hMzMzMzOEwkAaGwkAAAAAAADwPxEAAAAAAADwPyEzMzMzM4TCQBobCQAAAAAAAPA/EQAAAAAAAPA/ITMzMzMzhMJAGhsJAAAAAAAA8D8RAAAAAAAA8D8hMzMzMzOEwkAaGwkAAAAAAADwPxEAAAAAAADwPyEzMzMzM4TCQBobCQAAAAAAAPA/EQAAAAAAAPA/ITMzMzMzhMJAGhsJAAAAAAAA8D8RAAAAAAAA8D8hMzMzMzOEwkAaGwkAAAAAAADwPxEAAAAAAADwPyEzMzMzM4TCQCABQNTkBREs4swMXpVAvxnOI4JXJZ31PykAAADgFik6wDEAAACABaHRvzkAAADgTVNSQEKiAhobCQAAAOAWKTrAEWZmZtbbNjDAITikKIaacUZAGhsJZmZm1ts2MMARNDMzM4MSGcAhNqQohppxRkAaGwk0MzMzgxIZwBFgZmbm0WwNQCGtQ+lz05H2QBobCWBmZubRbA1AEczMzIyqPytAISYHcEZ1EKFAGhsJzMzMjKo/K0ARAAAAUBCSN0Ah2a1fXpFCLEAaGwkAAABQEJI3QBHMzMysJcJAQCHTrV9ekUIsQBobCczMzKwlwkBAEZqZmTFDu0VAId6tX16RQixAGhsJmpmZMUO7RUARZmZmtmC0SkAh061fXpFCLEAaGwlmZma2YLRKQBEyMzM7fq1PQCHTrV9ekUIsQBobCTIzMzt+rU9AEQAAAOBNU1JAId6tX16RQixAQqQCGhsJAAAA4BYpOsARAAAAYLKn8r8hMzMzMzOEwkAaGwkAAABgsqfyvxEAAAAAUxzsvyEzMzMzM4TCQBobCQAAAABTHOy/EQAAAKBnaeW/ITMzMzMzhMJAGhsJAAAAoGdp5b8RAAAAwKzR3r8hMzMzMzOEwkAaGwkAAADArNHevxEAAACABaHRvyEzMzMzM4TCQBobCQAAAIAFodG/EQAAAADshKm/ITMzMzMzhMJAGhsJAAAAAOyEqb8RAAAAoCKAzD8hMzMzMzOEwkAaGwkAAACgIoDMPxEAAACAfxjkPyEzMzMzM4TCQBobCQAAAIB/GOQ/EQAAAACI/vc/ITMzMzMzhMJAGhsJAAAAAIj+9z8RAAAA4E1TUkAhMzMzMzOEwkAgAUIECgJWNhq/BxABGrQHCrgCCNTkBRgBIAEtAACAPzKkAhobCQAAAAAAAPA/EQAAAAAAAPA/ITMzMzMzhMJAGhsJAAAAAAAA8D8RAAAAAAAA8D8hMzMzMzOEwkAaGwkAAAAAAADwPxEAAAAAAADwPyEzMzMzM4TCQBobCQAAAAAAAPA/EQAAAAAAAPA/ITMzMzMzhMJAGhsJAAAAAAAA8D8RAAAAAAAA8D8hMzMzMzOEwkAaGwkAAAAAAADwPxEAAAAAAADwPyEzMzMzM4TCQBobCQAAAAAAAPA/EQAAAAAAAPA/ITMzMzMzhMJAGhsJAAAAAAAA8D8RAAAAAAAA8D8hMzMzMzOEwkAaGwkAAAAAAADwPxEAAAAAAADwPyEzMzMzM4TCQBobCQAAAAAAAPA/EQAAAAAAAPA/ITMzMzMzhMJAIAFA1OQFERAZvZ2HhnI/GbUWZ51BBPU/KQAAAIDTwz/AMQAAAKD2WaU/OQAAAEC6JV5AQqICGhsJAAAAgNPDP8ARMzMzc42HMMAhMA44ieEFUUAaGwkzMzNzjYcwwBFgZmZmdrT0vyF1MCdLSum2QBobCWBmZmZ2tPS/EdDMzEz94StAIZmeDFLGrPVAGhsJ0MzMTP3hK0ARNDMzs0QtPUAhpaIBjCjHKUAaGwk0MzOzRC09QBEAAABgxTRGQCGlogGMKMcpQBobCQAAAGDFNEZAEWhmZmbo0k1AIauiAYwoxylAGhsJaGZmZujSTUARZ2ZmtoW4UkAhpaIBjCjHKUAaGwlnZma2hbhSQBGamZk5l4dWQCGlogGMKMcpQBobCZqZmTmXh1ZAEc7MzLyoVlpAIauiAYwoxylAGhsJzszMvKhWWkARAAAAQLolXkAhnqIBjCjHKUBCpAIaGwkAAACA08M/wBEAAAAgvijxvyEzMzMzM4TCQBobCQAAACC+KPG/EQAAAGCxtOW/ITMzMzMzhMJAGhsJAAAAYLG05b8RAAAAAAAU278hMzMzMzOEwkAaGwkAAAAAABTbvxEAAADg0vzDvyEzMzMzM4TCQBobCQAAAODS/MO/EQAAAKD2WaU/ITMzMzMzhMJAGhsJAAAAoPZZpT8RAAAAwOeSyz8hMzMzMzOEwkAaGwkAAADA55LLPxEAAABgzKbcPyEzMzMzM4TCQBobCQAAAGDMptw/EQAAAIAaQ+Y/ITMzMzMzhMJAGhsJAAAAgBpD5j8RAAAA4H2r8D8hMzMzMzOEwkAaGwkAAADgfavwPxEAAABAuiVeQCEzMzMzM4TCQCABQgQKAlY3Gr8HEAEatAcKuAII1OQFGAEgAS0AAIA/MqQCGhsJAAAAAAAA8D8RAAAAAAAA8D8hMzMzMzOEwkAaGwkAAAAAAADwPxEAAAAAAADwPyEzMzMzM4TCQBobCQAAAAAAAPA/EQAAAAAAAPA/ITMzMzMzhMJAGhsJAAAAAAAA8D8RAAAAAAAA8D8hMzMzMzOEwkAaGwkAAAAAAADwPxEAAAAAAADwPyEzMzMzM4TCQBobCQAAAAAAAPA/EQAAAAAAAPA/ITMzMzMzhMJAGhsJAAAAAAAA8D8RAAAAAAAA8D8hMzMzMzOEwkAaGwkAAAAAAADwPxEAAAAAAADwPyEzMzMzM4TCQBobCQAAAAAAAPA/EQAAAAAAAPA/ITMzMzMzhMJAGhsJAAAAAAAA8D8RAAAAAAAA8D8hMzMzMzOEwkAgAUDU5AURUNeHOozecL8ZHw0rj4iM8z8pAAAAwN5NUsAxAAAAYF7IlD85AAAAgBcrM0BCogIaGwkAAADA3k1SwBHNzMwsNv1PwCHkD1dZjFotQBobCc3MzCw2/U/AEZqZmdmuXkvAIeQPV1mMWi1AGhsJmpmZ2a5eS8ARZmZmhifARsAh6w9XWYxaLUAaGwlmZmaGJ8BGwBEzMzMzoCFCwCHkD1dZjFotQBobCTMzMzOgIULAEQAAAMAxBjvAIeQPV1mMWi1AGhsJAAAAwDEGO8ARmJmZGSPJMcAh6w9XWYxaLUAaGwmYmZkZI8kxwBFoZmbmKBghwCGP8uD3T11nQBobCWhmZuYoGCHAEYBmZmZGH+Y/IT647dEXVfRAGhsJgGZmZkYf5j8RODMzsxHcI0AhR9W1aBfWxUAaGwk4MzOzEdwjQBEAAACAFyszQCGHMnG7etZQQEKkAhobCQAAAMDeTVLAEQAAAEDrjN2/ITMzMzMzhMJAGhsJAAAAQOuM3b8RAAAAIKUw0b8hMzMzMzOEwkAaGwkAAAAgpTDRvxEAAADg83TEvyEzMzMzM4TCQBobCQAAAODzdMS/EQAAAKDIN7G/ITMzMzMzhMJAGhsJAAAAoMg3sb8RAAAAYF7IlD8hMzMzMzOEwkAaGwkAAABgXsiUPxEAAAAAGo2+PyEzMzMzM4TCQBobCQAAAAAajb4/EQAAAGAt+84/ITMzMzMzhMJAGhsJAAAAYC37zj8RAAAAQHuv2z8hMzMzMzOEwkAaGwkAAABAe6/bPxEAAADA2YLoPyEzMzMzM4TCQBobCQAAAMDZgug/EQAAAIAXKzNAITMzMzMzhMJAIAFCBAoCVjgavwcQARq0Bwq4AgjU5AUYASABLQAAgD8ypAIaGwkAAAAAAADwPxEAAAAAAADwPyEzMzMzM4TCQBobCQAAAAAAAPA/EQAAAAAAAPA/ITMzMzMzhMJAGhsJAAAAAAAA8D8RAAAAAAAA8D8hMzMzMzOEwkAaGwkAAAAAAADwPxEAAAAAAADwPyEzMzMzM4TCQBobCQAAAAAAAPA/EQAAAAAAAPA/ITMzMzMzhMJAGhsJAAAAAAAA8D8RAAAAAAAA8D8hMzMzMzOEwkAaGwkAAAAAAADwPxEAAAAAAADwPyEzMzMzM4TCQBobCQAAAAAAAPA/EQAAAAAAAPA/ITMzMzMzhMJAGhsJAAAAAAAA8D8RAAAAAAAA8D8hMzMzMzOEwkAaGwkAAAAAAADwPxEAAAAAAADwPyEzMzMzM4TCQCABQNTkBRFMytzEG29YPxmiby5jMZfxPykAAACAgfYiwDEAAACg5DupvzkAAADAKMkkQEKiAhobCQAAAICB9iLAETMzM/Pg+R3AIXc5aCbIMj9AGhsJMzMz8+D5HcARZmZm5r4GFsAhdzloJsgyP0AaGwlmZmbmvgYWwBE0MzOzOScMwCFzOWgmyDI/QBobCTQzM7M5JwzAETQzMzPrgfi/IeNv57e57blAGhsJNDMzM+uB+L8RAAAAAHQq3T8h3gBehto+7UAaGwkAAAAAdCrdPxGYmZmZkosDQCExcg0A85LZQBobCZiZmZmSiwNAEZqZmVnruBFAIXEokFQjP5pAGhsJmpmZWeu4EUARZmZmZg2sGUAhtYQFfn5zbEAaGwlmZmZmDawZQBGamZm5l88gQCHZX9TaPKpEQBobCZqZmbmXzyBAEQAAAMAoySRAIdRf1No8qkRAQqQCGhsJAAAAgIH2IsARAAAAwFy49L8hMzMzMzOEwkAaGwkAAADAXLj0vxEAAAAgXdjpvyEzMzMzM4TCQBobCQAAACBd2Om/EQAAAACb6d+/ITMzMzMzhMJAGhsJAAAAAJvp378RAAAAgJdM0L8hMzMzMzOEwkAaGwkAAACAl0zQvxEAAACg5DupvyEzMzMzM4TCQBobCQAAAKDkO6m/EQAAAGBNOMc/ITMzMzMzhMJAGhsJAAAAYE04xz8RAAAAgDKh3D8hMzMzMzOEwkAaGwkAAACAMqHcPxEAAAAgvFrpPyEzMzMzM4TCQBobCQAAACC8Wuk/EQAAAAAG2vQ/ITMzMzMzhMJAGhsJAAAAAAba9D8RAAAAwCjJJEAhMzMzMzOEwkAgAUIECgJWOQ==\"></facets-overview>';\n",
       "        facets_iframe.srcdoc = facets_html;\n",
       "         facets_iframe.id = \"\";\n",
       "         setTimeout(() => {\n",
       "           facets_iframe.setAttribute('height', facets_iframe.contentWindow.document.body.offsetHeight + 'px')\n",
       "         }, 1500)\n",
       "         </script>"
      ],
      "text/plain": [
       "<IPython.core.display.HTML object>"
      ]
     },
     "metadata": {},
     "output_type": "display_data"
    }
   ],
   "source": [
    "eval_stats = tfdv.load_stats_binary(eval_uri)\n",
    "tfdv.visualize_statistics(eval_stats)"
   ]
  },
  {
   "cell_type": "markdown",
   "id": "03042b8f-7d60-4fa5-8c4c-3563fc73c8c4",
   "metadata": {},
   "source": [
    "## Check the schema"
   ]
  },
  {
   "cell_type": "code",
   "execution_count": 34,
   "id": "29a0073c-85d0-4b2c-a88e-87e00ab43c17",
   "metadata": {},
   "outputs": [],
   "source": [
    "schemas = [a for a in artifacts if a.display_name == 'schema' and pipeline_name in a.uri]"
   ]
  },
  {
   "cell_type": "code",
   "execution_count": 45,
   "id": "e55e3d9d-c181-4ab0-a363-5ce0e18aa5d7",
   "metadata": {},
   "outputs": [
    {
     "data": {
      "text/plain": [
       "'gs://ihr-live-workshop/pipeline/237148598933/ihr-my-pipeline-20220228110721/SchemaGen_-4925121599134236672/schema'"
      ]
     },
     "execution_count": 45,
     "metadata": {},
     "output_type": "execute_result"
    }
   ],
   "source": [
    "schemas[0].uri"
   ]
  },
  {
   "cell_type": "code",
   "execution_count": 38,
   "id": "5f5788db-7fac-4df0-80eb-d962c3e40de3",
   "metadata": {},
   "outputs": [],
   "source": [
    "schema_uri = os.path.join(schemas[0].uri, \"schema.pbtxt\")"
   ]
  },
  {
   "cell_type": "code",
   "execution_count": 46,
   "id": "8ee5db41-fb54-462d-8583-ee6e091d9449",
   "metadata": {},
   "outputs": [
    {
     "data": {
      "text/plain": [
       "'gs://ihr-live-workshop/pipeline/237148598933/ihr-my-pipeline-20220228110721/SchemaGen_-4925121599134236672/schema/schema.pbtxt'"
      ]
     },
     "execution_count": 46,
     "metadata": {},
     "output_type": "execute_result"
    }
   ],
   "source": [
    "schema_uri"
   ]
  },
  {
   "cell_type": "code",
   "execution_count": 51,
   "id": "1e3778e8-5720-4b93-b8df-6da5244b95a5",
   "metadata": {},
   "outputs": [
    {
     "name": "stdout",
     "output_type": "stream",
     "text": [
      "gs://ihr-live-workshop/pipeline/237148598933/ihr-my-pipeline-20220228110721/SchemaGen_-4925121599134236672/schema/schema.pbtxt\n"
     ]
    }
   ],
   "source": [
    "!gsutil ls {schema_uri}"
   ]
  },
  {
   "cell_type": "code",
   "execution_count": 52,
   "id": "f5306013-4eef-4100-95d4-15c97a1cd605",
   "metadata": {},
   "outputs": [],
   "source": [
    "s = tfdv.load_schema_text(\"gs://ihr-live-workshop/pipeline/237148598933/ihr-my-pipeline-20220228110721/SchemaGen_-4925121599134236672/schema/schema.pbtxt\")"
   ]
  },
  {
   "cell_type": "code",
   "execution_count": 53,
   "id": "d66c6246-321c-4afc-a5b2-95506617a0b8",
   "metadata": {},
   "outputs": [
    {
     "data": {
      "text/plain": [
       "tensorflow_metadata.proto.v0.schema_pb2.Schema"
      ]
     },
     "execution_count": 53,
     "metadata": {},
     "output_type": "execute_result"
    }
   ],
   "source": [
    "type(s)"
   ]
  },
  {
   "cell_type": "code",
   "execution_count": 54,
   "id": "a1ab1c6a-452e-4927-92c6-9360ed310d21",
   "metadata": {},
   "outputs": [
    {
     "data": {
      "text/html": [
       "<div>\n",
       "<style scoped>\n",
       "    .dataframe tbody tr th:only-of-type {\n",
       "        vertical-align: middle;\n",
       "    }\n",
       "\n",
       "    .dataframe tbody tr th {\n",
       "        vertical-align: top;\n",
       "    }\n",
       "\n",
       "    .dataframe thead th {\n",
       "        text-align: right;\n",
       "    }\n",
       "</style>\n",
       "<table border=\"1\" class=\"dataframe\">\n",
       "  <thead>\n",
       "    <tr style=\"text-align: right;\">\n",
       "      <th></th>\n",
       "      <th>Type</th>\n",
       "      <th>Presence</th>\n",
       "      <th>Valency</th>\n",
       "      <th>Domain</th>\n",
       "    </tr>\n",
       "    <tr>\n",
       "      <th>Feature name</th>\n",
       "      <th></th>\n",
       "      <th></th>\n",
       "      <th></th>\n",
       "      <th></th>\n",
       "    </tr>\n",
       "  </thead>\n",
       "  <tbody>\n",
       "    <tr>\n",
       "      <th>'Amount'</th>\n",
       "      <td>FLOAT</td>\n",
       "      <td>required</td>\n",
       "      <td></td>\n",
       "      <td>-</td>\n",
       "    </tr>\n",
       "    <tr>\n",
       "      <th>'Class'</th>\n",
       "      <td>INT</td>\n",
       "      <td>required</td>\n",
       "      <td></td>\n",
       "      <td>-</td>\n",
       "    </tr>\n",
       "    <tr>\n",
       "      <th>'Time'</th>\n",
       "      <td>INT</td>\n",
       "      <td>required</td>\n",
       "      <td></td>\n",
       "      <td>-</td>\n",
       "    </tr>\n",
       "    <tr>\n",
       "      <th>'V1'</th>\n",
       "      <td>FLOAT</td>\n",
       "      <td>required</td>\n",
       "      <td></td>\n",
       "      <td>-</td>\n",
       "    </tr>\n",
       "    <tr>\n",
       "      <th>'V10'</th>\n",
       "      <td>FLOAT</td>\n",
       "      <td>required</td>\n",
       "      <td></td>\n",
       "      <td>-</td>\n",
       "    </tr>\n",
       "    <tr>\n",
       "      <th>'V11'</th>\n",
       "      <td>FLOAT</td>\n",
       "      <td>required</td>\n",
       "      <td></td>\n",
       "      <td>-</td>\n",
       "    </tr>\n",
       "    <tr>\n",
       "      <th>'V12'</th>\n",
       "      <td>FLOAT</td>\n",
       "      <td>required</td>\n",
       "      <td></td>\n",
       "      <td>-</td>\n",
       "    </tr>\n",
       "    <tr>\n",
       "      <th>'V13'</th>\n",
       "      <td>FLOAT</td>\n",
       "      <td>required</td>\n",
       "      <td></td>\n",
       "      <td>-</td>\n",
       "    </tr>\n",
       "    <tr>\n",
       "      <th>'V14'</th>\n",
       "      <td>FLOAT</td>\n",
       "      <td>required</td>\n",
       "      <td></td>\n",
       "      <td>-</td>\n",
       "    </tr>\n",
       "    <tr>\n",
       "      <th>'V15'</th>\n",
       "      <td>FLOAT</td>\n",
       "      <td>required</td>\n",
       "      <td></td>\n",
       "      <td>-</td>\n",
       "    </tr>\n",
       "    <tr>\n",
       "      <th>'V16'</th>\n",
       "      <td>FLOAT</td>\n",
       "      <td>required</td>\n",
       "      <td></td>\n",
       "      <td>-</td>\n",
       "    </tr>\n",
       "    <tr>\n",
       "      <th>'V17'</th>\n",
       "      <td>FLOAT</td>\n",
       "      <td>required</td>\n",
       "      <td></td>\n",
       "      <td>-</td>\n",
       "    </tr>\n",
       "    <tr>\n",
       "      <th>'V18'</th>\n",
       "      <td>FLOAT</td>\n",
       "      <td>required</td>\n",
       "      <td></td>\n",
       "      <td>-</td>\n",
       "    </tr>\n",
       "    <tr>\n",
       "      <th>'V19'</th>\n",
       "      <td>FLOAT</td>\n",
       "      <td>required</td>\n",
       "      <td></td>\n",
       "      <td>-</td>\n",
       "    </tr>\n",
       "    <tr>\n",
       "      <th>'V2'</th>\n",
       "      <td>FLOAT</td>\n",
       "      <td>required</td>\n",
       "      <td></td>\n",
       "      <td>-</td>\n",
       "    </tr>\n",
       "    <tr>\n",
       "      <th>'V20'</th>\n",
       "      <td>FLOAT</td>\n",
       "      <td>required</td>\n",
       "      <td></td>\n",
       "      <td>-</td>\n",
       "    </tr>\n",
       "    <tr>\n",
       "      <th>'V21'</th>\n",
       "      <td>FLOAT</td>\n",
       "      <td>required</td>\n",
       "      <td></td>\n",
       "      <td>-</td>\n",
       "    </tr>\n",
       "    <tr>\n",
       "      <th>'V22'</th>\n",
       "      <td>FLOAT</td>\n",
       "      <td>required</td>\n",
       "      <td></td>\n",
       "      <td>-</td>\n",
       "    </tr>\n",
       "    <tr>\n",
       "      <th>'V23'</th>\n",
       "      <td>FLOAT</td>\n",
       "      <td>required</td>\n",
       "      <td></td>\n",
       "      <td>-</td>\n",
       "    </tr>\n",
       "    <tr>\n",
       "      <th>'V24'</th>\n",
       "      <td>FLOAT</td>\n",
       "      <td>required</td>\n",
       "      <td></td>\n",
       "      <td>-</td>\n",
       "    </tr>\n",
       "    <tr>\n",
       "      <th>'V25'</th>\n",
       "      <td>FLOAT</td>\n",
       "      <td>required</td>\n",
       "      <td></td>\n",
       "      <td>-</td>\n",
       "    </tr>\n",
       "    <tr>\n",
       "      <th>'V26'</th>\n",
       "      <td>FLOAT</td>\n",
       "      <td>required</td>\n",
       "      <td></td>\n",
       "      <td>-</td>\n",
       "    </tr>\n",
       "    <tr>\n",
       "      <th>'V27'</th>\n",
       "      <td>FLOAT</td>\n",
       "      <td>required</td>\n",
       "      <td></td>\n",
       "      <td>-</td>\n",
       "    </tr>\n",
       "    <tr>\n",
       "      <th>'V28'</th>\n",
       "      <td>FLOAT</td>\n",
       "      <td>required</td>\n",
       "      <td></td>\n",
       "      <td>-</td>\n",
       "    </tr>\n",
       "    <tr>\n",
       "      <th>'V3'</th>\n",
       "      <td>FLOAT</td>\n",
       "      <td>required</td>\n",
       "      <td></td>\n",
       "      <td>-</td>\n",
       "    </tr>\n",
       "    <tr>\n",
       "      <th>'V4'</th>\n",
       "      <td>FLOAT</td>\n",
       "      <td>required</td>\n",
       "      <td></td>\n",
       "      <td>-</td>\n",
       "    </tr>\n",
       "    <tr>\n",
       "      <th>'V5'</th>\n",
       "      <td>FLOAT</td>\n",
       "      <td>required</td>\n",
       "      <td></td>\n",
       "      <td>-</td>\n",
       "    </tr>\n",
       "    <tr>\n",
       "      <th>'V6'</th>\n",
       "      <td>FLOAT</td>\n",
       "      <td>required</td>\n",
       "      <td></td>\n",
       "      <td>-</td>\n",
       "    </tr>\n",
       "    <tr>\n",
       "      <th>'V7'</th>\n",
       "      <td>FLOAT</td>\n",
       "      <td>required</td>\n",
       "      <td></td>\n",
       "      <td>-</td>\n",
       "    </tr>\n",
       "    <tr>\n",
       "      <th>'V8'</th>\n",
       "      <td>FLOAT</td>\n",
       "      <td>required</td>\n",
       "      <td></td>\n",
       "      <td>-</td>\n",
       "    </tr>\n",
       "    <tr>\n",
       "      <th>'V9'</th>\n",
       "      <td>FLOAT</td>\n",
       "      <td>required</td>\n",
       "      <td></td>\n",
       "      <td>-</td>\n",
       "    </tr>\n",
       "  </tbody>\n",
       "</table>\n",
       "</div>"
      ],
      "text/plain": [
       "               Type  Presence Valency Domain\n",
       "Feature name                                \n",
       "'Amount'      FLOAT  required              -\n",
       "'Class'         INT  required              -\n",
       "'Time'          INT  required              -\n",
       "'V1'          FLOAT  required              -\n",
       "'V10'         FLOAT  required              -\n",
       "'V11'         FLOAT  required              -\n",
       "'V12'         FLOAT  required              -\n",
       "'V13'         FLOAT  required              -\n",
       "'V14'         FLOAT  required              -\n",
       "'V15'         FLOAT  required              -\n",
       "'V16'         FLOAT  required              -\n",
       "'V17'         FLOAT  required              -\n",
       "'V18'         FLOAT  required              -\n",
       "'V19'         FLOAT  required              -\n",
       "'V2'          FLOAT  required              -\n",
       "'V20'         FLOAT  required              -\n",
       "'V21'         FLOAT  required              -\n",
       "'V22'         FLOAT  required              -\n",
       "'V23'         FLOAT  required              -\n",
       "'V24'         FLOAT  required              -\n",
       "'V25'         FLOAT  required              -\n",
       "'V26'         FLOAT  required              -\n",
       "'V27'         FLOAT  required              -\n",
       "'V28'         FLOAT  required              -\n",
       "'V3'          FLOAT  required              -\n",
       "'V4'          FLOAT  required              -\n",
       "'V5'          FLOAT  required              -\n",
       "'V6'          FLOAT  required              -\n",
       "'V7'          FLOAT  required              -\n",
       "'V8'          FLOAT  required              -\n",
       "'V9'          FLOAT  required              -"
      ]
     },
     "metadata": {},
     "output_type": "display_data"
    }
   ],
   "source": [
    "tfdv.display_schema(s)"
   ]
  },
  {
   "cell_type": "markdown",
   "id": "612c3fdf-ad5c-4ec1-97fd-6c99d959faf7",
   "metadata": {},
   "source": [
    "## Detect anomalies"
   ]
  },
  {
   "cell_type": "code",
   "execution_count": 55,
   "id": "f5bfea5d-f717-467d-ac12-efe312800ed6",
   "metadata": {},
   "outputs": [],
   "source": [
    "train_anomalies = tfdv.validate_statistics(statistics=train_stats, schema=s)"
   ]
  },
  {
   "cell_type": "code",
   "execution_count": 56,
   "id": "a77b6d3e-4166-4691-b4f2-fd27f21d7293",
   "metadata": {},
   "outputs": [
    {
     "data": {
      "text/html": [
       "<h4 style=\"color:green;\">No anomalies found.</h4>"
      ],
      "text/plain": [
       "<IPython.core.display.HTML object>"
      ]
     },
     "metadata": {},
     "output_type": "display_data"
    }
   ],
   "source": [
    "tfdv.display_anomalies(train_anomalies)"
   ]
  },
  {
   "cell_type": "code",
   "execution_count": 57,
   "id": "87613ba3-700e-438f-9917-08a04572d3d4",
   "metadata": {},
   "outputs": [],
   "source": [
    "eval_anomalies = tfdv.validate_statistics(statistics=eval_stats, schema=s)"
   ]
  },
  {
   "cell_type": "code",
   "execution_count": 58,
   "id": "66cb2241-f176-4e94-b456-ac194d42c7ba",
   "metadata": {},
   "outputs": [
    {
     "data": {
      "text/html": [
       "<h4 style=\"color:green;\">No anomalies found.</h4>"
      ],
      "text/plain": [
       "<IPython.core.display.HTML object>"
      ]
     },
     "metadata": {},
     "output_type": "display_data"
    }
   ],
   "source": [
    "tfdv.display_anomalies(eval_anomalies)"
   ]
  },
  {
   "cell_type": "code",
   "execution_count": null,
   "id": "5daa59c8-8b0e-446e-b801-759d97e6896e",
   "metadata": {},
   "outputs": [],
   "source": []
  }
 ],
 "metadata": {
  "environment": {
   "kernel": "python3",
   "name": "managed-notebooks.m90",
   "type": "gcloud",
   "uri": "gcr.io/deeplearning-platform-release/tf2-gpu:latest"
  },
  "kernelspec": {
   "display_name": "TensorFlow 2 (Local)",
   "language": "python",
   "name": "local-tf2"
  },
  "language_info": {
   "codemirror_mode": {
    "name": "ipython",
    "version": 3
   },
   "file_extension": ".py",
   "mimetype": "text/x-python",
   "name": "python",
   "nbconvert_exporter": "python",
   "pygments_lexer": "ipython3",
   "version": "3.7.12"
  }
 },
 "nbformat": 4,
 "nbformat_minor": 5
}
