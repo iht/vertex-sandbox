{
 "cells": [
  {
   "cell_type": "code",
   "execution_count": 48,
   "id": "1c2f4ead-742d-4060-bbb8-7e9c2745b1c1",
   "metadata": {},
   "outputs": [],
   "source": [
    "from google.cloud import aiplatform\n",
    "import tensorflow as tf\n",
    "import numpy as np"
   ]
  },
  {
   "cell_type": "code",
   "execution_count": 49,
   "id": "492ac14c-ca49-491c-a769-e56274bcbd33",
   "metadata": {},
   "outputs": [],
   "source": [
    "# The following two lines are only necessary to run once.\n",
    "# Comment out otherwise for speed-up.\n",
    "from google.cloud.bigquery import Client, QueryJobConfig\n",
    "client = Client()\n",
    "\n",
    "query = \"\"\"SELECT * FROM `ihr-vertex-pipelines.ihr_live_workshop.transactions` LIMIT 1\"\"\"\n",
    "job = client.query(query)\n",
    "df = job.to_dataframe()"
   ]
  },
  {
   "cell_type": "code",
   "execution_count": 50,
   "id": "1326a68f-9879-4529-abfd-f25afc8ed56b",
   "metadata": {},
   "outputs": [
    {
     "data": {
      "text/html": [
       "<div>\n",
       "<style scoped>\n",
       "    .dataframe tbody tr th:only-of-type {\n",
       "        vertical-align: middle;\n",
       "    }\n",
       "\n",
       "    .dataframe tbody tr th {\n",
       "        vertical-align: top;\n",
       "    }\n",
       "\n",
       "    .dataframe thead th {\n",
       "        text-align: right;\n",
       "    }\n",
       "</style>\n",
       "<table border=\"1\" class=\"dataframe\">\n",
       "  <thead>\n",
       "    <tr style=\"text-align: right;\">\n",
       "      <th></th>\n",
       "      <th>Time</th>\n",
       "      <th>V1</th>\n",
       "      <th>V2</th>\n",
       "      <th>V3</th>\n",
       "      <th>V4</th>\n",
       "      <th>V5</th>\n",
       "      <th>V6</th>\n",
       "      <th>V7</th>\n",
       "      <th>V8</th>\n",
       "      <th>V9</th>\n",
       "      <th>...</th>\n",
       "      <th>V21</th>\n",
       "      <th>V22</th>\n",
       "      <th>V23</th>\n",
       "      <th>V24</th>\n",
       "      <th>V25</th>\n",
       "      <th>V26</th>\n",
       "      <th>V27</th>\n",
       "      <th>V28</th>\n",
       "      <th>Amount</th>\n",
       "      <th>Class</th>\n",
       "    </tr>\n",
       "  </thead>\n",
       "  <tbody>\n",
       "    <tr>\n",
       "      <th>0</th>\n",
       "      <td>282</td>\n",
       "      <td>-0.356466</td>\n",
       "      <td>0.725418</td>\n",
       "      <td>1.971749</td>\n",
       "      <td>0.831343</td>\n",
       "      <td>0.369681</td>\n",
       "      <td>-0.107776</td>\n",
       "      <td>0.75161</td>\n",
       "      <td>-0.120166</td>\n",
       "      <td>-0.420675</td>\n",
       "      <td>...</td>\n",
       "      <td>0.020804</td>\n",
       "      <td>0.424312</td>\n",
       "      <td>-0.015989</td>\n",
       "      <td>0.466754</td>\n",
       "      <td>-0.809962</td>\n",
       "      <td>0.657334</td>\n",
       "      <td>-0.04315</td>\n",
       "      <td>-0.046401</td>\n",
       "      <td>0.0</td>\n",
       "      <td>0</td>\n",
       "    </tr>\n",
       "  </tbody>\n",
       "</table>\n",
       "<p>1 rows × 31 columns</p>\n",
       "</div>"
      ],
      "text/plain": [
       "   Time        V1        V2        V3        V4        V5        V6       V7  \\\n",
       "0   282 -0.356466  0.725418  1.971749  0.831343  0.369681 -0.107776  0.75161   \n",
       "\n",
       "         V8        V9  ...       V21       V22       V23       V24       V25  \\\n",
       "0 -0.120166 -0.420675  ...  0.020804  0.424312 -0.015989  0.466754 -0.809962   \n",
       "\n",
       "        V26      V27       V28  Amount  Class  \n",
       "0  0.657334 -0.04315 -0.046401     0.0      0  \n",
       "\n",
       "[1 rows x 31 columns]"
      ]
     },
     "execution_count": 50,
     "metadata": {},
     "output_type": "execute_result"
    }
   ],
   "source": [
    "df"
   ]
  },
  {
   "cell_type": "code",
   "execution_count": 51,
   "id": "3141826c-c972-4aac-8175-15ae50f4e791",
   "metadata": {},
   "outputs": [],
   "source": [
    "tft_location = \"gs://ihr-live-workshop/pipeline/237148598933/ihr-my-pipeline-20220301101234/Transform_-6056932480487784448/transform_graph/\""
   ]
  },
  {
   "cell_type": "code",
   "execution_count": 52,
   "id": "279dbca9-cf98-44c0-aa90-472e48a52a81",
   "metadata": {},
   "outputs": [],
   "source": [
    "import tensorflow_transform as tft"
   ]
  },
  {
   "cell_type": "code",
   "execution_count": 53,
   "id": "51abaf0a-798f-4c0c-9795-154a26806ea7",
   "metadata": {},
   "outputs": [],
   "source": [
    "transform = tft.TFTransformOutput(tft_location)"
   ]
  },
  {
   "cell_type": "code",
   "execution_count": 58,
   "id": "9ae92241-5d6d-446d-aa4f-82cea81145b4",
   "metadata": {},
   "outputs": [],
   "source": [
    "t = transform.transform_raw_features(d)"
   ]
  },
  {
   "cell_type": "code",
   "execution_count": 59,
   "id": "bc17d96b-3cbb-4fae-a2c2-653052630373",
   "metadata": {},
   "outputs": [],
   "source": [
    "project = \"ihr-vertex-pipelines\"\n",
    "region = \"europe-west4\"\n",
    "aiplatform.init(project=project, location=region)"
   ]
  },
  {
   "cell_type": "code",
   "execution_count": 60,
   "id": "7db06037-1f11-464a-9f25-7fa19c6ca98c",
   "metadata": {},
   "outputs": [
    {
     "data": {
      "text/plain": [
       "{'V5': <tf.Tensor: shape=(1, 1), dtype=float32, numpy=array([[0.5474176]], dtype=float32)>,\n",
       " 'V9': <tf.Tensor: shape=(1, 1), dtype=float32, numpy=array([[0.4482884]], dtype=float32)>,\n",
       " 'V26': <tf.Tensor: shape=(1, 1), dtype=float32, numpy=array([[0.52740175]], dtype=float32)>,\n",
       " 'V8': <tf.Tensor: shape=(1, 1), dtype=float32, numpy=array([[0.71421057]], dtype=float32)>,\n",
       " 'V21': <tf.Tensor: shape=(1, 1), dtype=float32, numpy=array([[0.45735976]], dtype=float32)>,\n",
       " 'V6': <tf.Tensor: shape=(1, 1), dtype=float32, numpy=array([[0.49328607]], dtype=float32)>,\n",
       " 'V18': <tf.Tensor: shape=(1, 1), dtype=float32, numpy=array([[0.56166637]], dtype=float32)>,\n",
       " 'V25': <tf.Tensor: shape=(1, 1), dtype=float32, numpy=array([[0.5324413]], dtype=float32)>,\n",
       " 'V22': <tf.Tensor: shape=(1, 1), dtype=float32, numpy=array([[0.5886178]], dtype=float32)>,\n",
       " 'V20': <tf.Tensor: shape=(1, 1), dtype=float32, numpy=array([[0.41340366]], dtype=float32)>,\n",
       " 'V13': <tf.Tensor: shape=(1, 1), dtype=float32, numpy=array([[0.51563656]], dtype=float32)>,\n",
       " 'Amount': <tf.Tensor: shape=(1, 1), dtype=float32, numpy=array([[0.]], dtype=float32)>,\n",
       " 'V12': <tf.Tensor: shape=(1, 1), dtype=float32, numpy=array([[0.8216264]], dtype=float32)>,\n",
       " 'V2': <tf.Tensor: shape=(1, 1), dtype=float32, numpy=array([[0.7502142]], dtype=float32)>,\n",
       " 'V1': <tf.Tensor: shape=(1, 1), dtype=float32, numpy=array([[0.9430434]], dtype=float32)>,\n",
       " 'V16': <tf.Tensor: shape=(1, 1), dtype=float32, numpy=array([[0.62493336]], dtype=float32)>,\n",
       " 'V14': <tf.Tensor: shape=(1, 1), dtype=float32, numpy=array([[0.68194026]], dtype=float32)>,\n",
       " 'V23': <tf.Tensor: shape=(1, 1), dtype=float32, numpy=array([[0.6696201]], dtype=float32)>,\n",
       " 'V24': <tf.Tensor: shape=(1, 1), dtype=float32, numpy=array([[0.48157808]], dtype=float32)>,\n",
       " 'V28': <tf.Tensor: shape=(1, 1), dtype=float32, numpy=array([[0.33976597]], dtype=float32)>,\n",
       " 'V10': <tf.Tensor: shape=(1, 1), dtype=float32, numpy=array([[0.50748175]], dtype=float32)>,\n",
       " 'V19': <tf.Tensor: shape=(1, 1), dtype=float32, numpy=array([[0.44247296]], dtype=float32)>,\n",
       " 'V17': <tf.Tensor: shape=(1, 1), dtype=float32, numpy=array([[0.73330307]], dtype=float32)>,\n",
       " 'V11': <tf.Tensor: shape=(1, 1), dtype=float32, numpy=array([[0.26047772]], dtype=float32)>,\n",
       " 'V7': <tf.Tensor: shape=(1, 1), dtype=float32, numpy=array([[0.50574124]], dtype=float32)>,\n",
       " 'V27': <tf.Tensor: shape=(1, 1), dtype=float32, numpy=array([[0.6487263]], dtype=float32)>,\n",
       " 'V15': <tf.Tensor: shape=(1, 1), dtype=float32, numpy=array([[0.29382217]], dtype=float32)>,\n",
       " 'V3': <tf.Tensor: shape=(1, 1), dtype=float32, numpy=array([[0.8279098]], dtype=float32)>,\n",
       " 'V4': <tf.Tensor: shape=(1, 1), dtype=float32, numpy=array([[0.29084328]], dtype=float32)>}"
      ]
     },
     "execution_count": 60,
     "metadata": {},
     "output_type": "execute_result"
    }
   ],
   "source": [
    "del t['Class']\n",
    "t"
   ]
  },
  {
   "cell_type": "code",
   "execution_count": 61,
   "id": "e5e021d6-2b35-4500-a26e-ab0cb5e5342d",
   "metadata": {},
   "outputs": [],
   "source": [
    "for k, v in t.items():\n",
    "    t[k] = v.numpy().tolist()[0]"
   ]
  },
  {
   "cell_type": "markdown",
   "id": "d0c71ec5-55e4-43ff-951b-03fbe1b33acf",
   "metadata": {},
   "source": [
    "## Predicition using library and Google default credentials"
   ]
  },
  {
   "cell_type": "code",
   "execution_count": 62,
   "id": "09d73edc-ca97-47b2-8df1-80dcd2af896d",
   "metadata": {},
   "outputs": [
    {
     "data": {
      "text/plain": [
       "{'V5': [0.5474175810813904],\n",
       " 'V9': [0.4482884109020233],\n",
       " 'V26': [0.5274017453193665],\n",
       " 'V8': [0.714210569858551],\n",
       " 'V21': [0.45735976099967957],\n",
       " 'V6': [0.4932860732078552],\n",
       " 'V18': [0.5616663694381714],\n",
       " 'V25': [0.5324413180351257],\n",
       " 'V22': [0.5886178016662598],\n",
       " 'V20': [0.4134036600589752],\n",
       " 'V13': [0.5156365633010864],\n",
       " 'Amount': [0.0],\n",
       " 'V12': [0.8216264247894287],\n",
       " 'V2': [0.7502142190933228],\n",
       " 'V1': [0.9430434107780457],\n",
       " 'V16': [0.6249333620071411],\n",
       " 'V14': [0.6819402575492859],\n",
       " 'V23': [0.6696200966835022],\n",
       " 'V24': [0.4815780818462372],\n",
       " 'V28': [0.3397659659385681],\n",
       " 'V10': [0.5074817538261414],\n",
       " 'V19': [0.4424729645252228],\n",
       " 'V17': [0.7333030700683594],\n",
       " 'V11': [0.2604777216911316],\n",
       " 'V7': [0.5057412385940552],\n",
       " 'V27': [0.6487262845039368],\n",
       " 'V15': [0.29382216930389404],\n",
       " 'V3': [0.8279098272323608],\n",
       " 'V4': [0.29084327816963196]}"
      ]
     },
     "execution_count": 62,
     "metadata": {},
     "output_type": "execute_result"
    }
   ],
   "source": [
    "t"
   ]
  },
  {
   "cell_type": "code",
   "execution_count": 20,
   "id": "77577d6d-8c99-4f53-bf08-881e231b5c17",
   "metadata": {},
   "outputs": [],
   "source": [
    "endpoint_id = \"7717252213034188800\"\n",
    "instances = {\"instances\": [t]} # Not for AI Platform lib!!"
   ]
  },
  {
   "cell_type": "code",
   "execution_count": 21,
   "id": "9bb61137-1f1f-4f87-9513-d53e9e4ccd79",
   "metadata": {},
   "outputs": [],
   "source": [
    "endpoint = aiplatform.Endpoint(endpoint_id)"
   ]
  },
  {
   "cell_type": "code",
   "execution_count": 29,
   "id": "fc2aab75-48d4-4d71-a6d1-9919b70b3ebe",
   "metadata": {},
   "outputs": [
    {
     "data": {
      "text/plain": [
       "Prediction(predictions=[[0.000241786242]], deployed_model_id='3934325283066216448', explanations=None)"
      ]
     },
     "execution_count": 29,
     "metadata": {},
     "output_type": "execute_result"
    }
   ],
   "source": [
    "endpoint.predict(instances=[t])"
   ]
  },
  {
   "cell_type": "markdown",
   "id": "a1625025-2cae-4853-8e87-9bc4f235583b",
   "metadata": {},
   "source": [
    "## Prediction using HTTP request and JSON tokens"
   ]
  },
  {
   "cell_type": "code",
   "execution_count": 30,
   "id": "a38abea9-fef4-4d11-b19c-d153e9d9fd00",
   "metadata": {},
   "outputs": [],
   "source": [
    "import requests\n",
    "import json"
   ]
  },
  {
   "cell_type": "code",
   "execution_count": 37,
   "id": "1d81a14e-8b16-4bb7-b97c-1a6965baf5bf",
   "metadata": {},
   "outputs": [],
   "source": [
    "url = f\"https://europe-west4-aiplatform.googleapis.com/v1/projects/{project}/locations/{region}/endpoints/{endpoint_id}:predict\""
   ]
  },
  {
   "cell_type": "code",
   "execution_count": 38,
   "id": "fbd52537-c04d-4ea0-bcd7-77fb6e33a4da",
   "metadata": {},
   "outputs": [
    {
     "data": {
      "text/plain": [
       "'https://europe-west4-aiplatform.googleapis.com/v1/projects/ihr-vertex-pipelines/locations/europe-west4/endpoints/7717252213034188800:predict'"
      ]
     },
     "execution_count": 38,
     "metadata": {},
     "output_type": "execute_result"
    }
   ],
   "source": [
    "url"
   ]
  },
  {
   "cell_type": "code",
   "execution_count": 34,
   "id": "4db62371-62e9-4ae2-bf9c-a176d8a44280",
   "metadata": {},
   "outputs": [
    {
     "name": "stdout",
     "output_type": "stream",
     "text": [
      "ya29.A0ARrdaM_NBGckoS52wzMA-1nbNoVxTUXWiVIs2bGQql5tlVc2t5kRFAlvKWzyfeAR20XSHojb_DcBDXQmZnwMAKel9-F_T0JBENy8ey4SLNenECT9pETMQHdbhy6eyDWh096UkyO9McnYzAEd9gBLGMZka2j-nwVtzHKCvg\n"
     ]
    }
   ],
   "source": [
    "!gcloud auth application-default print-access-token"
   ]
  },
  {
   "cell_type": "code",
   "execution_count": 39,
   "id": "9bc622d8-be83-458c-9ca1-54934845b7d4",
   "metadata": {},
   "outputs": [],
   "source": [
    "token = \"ya29.A0ARrdaM_NBGckoS52wzMA-1nbNoVxTUXWiVIs2bGQql5tlVc2t5kRFAlvKWzyfeAR20XSHojb_DcBDXQmZnwMAKel9-F_T0JBENy8ey4SLNenECT9pETMQHdbhy6eyDWh096UkyO9McnYzAEd9gBLGMZka2j-nwVtzHKCvg\""
   ]
  },
  {
   "cell_type": "code",
   "execution_count": 41,
   "id": "a8ac75fe-ea29-4d11-ab2e-df7e3d95ec26",
   "metadata": {},
   "outputs": [],
   "source": [
    "body = json.dumps(instances)"
   ]
  },
  {
   "cell_type": "code",
   "execution_count": 42,
   "id": "4c8f89a4-3f0d-49e8-afd3-59ea0d2d83f6",
   "metadata": {},
   "outputs": [
    {
     "data": {
      "text/plain": [
       "'{\"instances\": [{\"V28\": [0.3397659659385681], \"V12\": [0.8216264247894287], \"V3\": [0.8279098272323608], \"V5\": [0.5474175810813904], \"V19\": [0.4424729645252228], \"V17\": [0.7333030700683594], \"V23\": [0.6696200966835022], \"V22\": [0.5886178016662598], \"V6\": [0.4932860732078552], \"V4\": [0.29084327816963196], \"V24\": [0.4815780818462372], \"V7\": [0.5057412385940552], \"V27\": [0.6487262845039368], \"V11\": [0.2604777216911316], \"V16\": [0.6249333620071411], \"V21\": [0.45735976099967957], \"V2\": [0.7502142190933228], \"V14\": [0.6819402575492859], \"V18\": [0.5616663694381714], \"V9\": [0.4482884109020233], \"V15\": [0.29382216930389404], \"V1\": [0.9430434107780457], \"V13\": [0.5156365633010864], \"Amount\": [0.0], \"V20\": [0.4134036600589752], \"V10\": [0.5074817538261414], \"V26\": [0.5274017453193665], \"V8\": [0.714210569858551], \"V25\": [0.5324413180351257]}]}'"
      ]
     },
     "execution_count": 42,
     "metadata": {},
     "output_type": "execute_result"
    }
   ],
   "source": [
    "body"
   ]
  },
  {
   "cell_type": "code",
   "execution_count": 44,
   "id": "2dc2f747-e2f9-4d2f-a724-fc12453d86dc",
   "metadata": {},
   "outputs": [],
   "source": [
    "header = {\"Authorization\": f\"Bearer {token}\", \"Content-type\": \"application/json\"}"
   ]
  },
  {
   "cell_type": "code",
   "execution_count": 46,
   "id": "cf3cc6a1-e975-4c35-ad9a-8e2eaef30d1d",
   "metadata": {},
   "outputs": [],
   "source": [
    "o = requests.post(url, data=body, headers=header)"
   ]
  },
  {
   "cell_type": "code",
   "execution_count": 47,
   "id": "a3a77efb-b8e2-41b9-8c93-aa44024e5f5d",
   "metadata": {},
   "outputs": [
    {
     "data": {
      "text/plain": [
       "{'predictions': [[0.000241786242]],\n",
       " 'deployedModelId': '3934325283066216448',\n",
       " 'model': 'projects/237148598933/locations/europe-west4/models/5227219015935459328',\n",
       " 'modelDisplayName': 'v1646213728'}"
      ]
     },
     "execution_count": 47,
     "metadata": {},
     "output_type": "execute_result"
    }
   ],
   "source": [
    "o.json()"
   ]
  },
  {
   "cell_type": "code",
   "execution_count": null,
   "id": "151ad347-aa9e-412f-84d3-814b6fd3974f",
   "metadata": {},
   "outputs": [],
   "source": []
  }
 ],
 "metadata": {
  "environment": {
   "kernel": "python3",
   "name": "managed-notebooks.m90",
   "type": "gcloud",
   "uri": "gcr.io/deeplearning-platform-release/tf2-gpu:latest"
  },
  "kernelspec": {
   "display_name": "TensorFlow 2 (Local)",
   "language": "python",
   "name": "local-tf2"
  },
  "language_info": {
   "codemirror_mode": {
    "name": "ipython",
    "version": 3
   },
   "file_extension": ".py",
   "mimetype": "text/x-python",
   "name": "python",
   "nbconvert_exporter": "python",
   "pygments_lexer": "ipython3",
   "version": "3.7.12"
  }
 },
 "nbformat": 4,
 "nbformat_minor": 5
}
